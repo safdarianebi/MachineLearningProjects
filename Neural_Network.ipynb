{
 "cells": [
  {
   "cell_type": "code",
   "execution_count": 1,
   "id": "5486c437-c3f8-4753-8d99-68093b5a5a1e",
   "metadata": {
    "scrolled": true
   },
   "outputs": [
    {
     "name": "stderr",
     "output_type": "stream",
     "text": [
      "2024-10-10 17:06:10.827656: I external/local_xla/xla/tsl/cuda/cudart_stub.cc:32] Could not find cuda drivers on your machine, GPU will not be used.\n",
      "2024-10-10 17:06:10.831799: I external/local_xla/xla/tsl/cuda/cudart_stub.cc:32] Could not find cuda drivers on your machine, GPU will not be used.\n",
      "2024-10-10 17:06:10.843502: E external/local_xla/xla/stream_executor/cuda/cuda_fft.cc:485] Unable to register cuFFT factory: Attempting to register factory for plugin cuFFT when one has already been registered\n",
      "2024-10-10 17:06:10.862892: E external/local_xla/xla/stream_executor/cuda/cuda_dnn.cc:8454] Unable to register cuDNN factory: Attempting to register factory for plugin cuDNN when one has already been registered\n",
      "2024-10-10 17:06:10.868389: E external/local_xla/xla/stream_executor/cuda/cuda_blas.cc:1452] Unable to register cuBLAS factory: Attempting to register factory for plugin cuBLAS when one has already been registered\n",
      "2024-10-10 17:06:10.883905: I tensorflow/core/platform/cpu_feature_guard.cc:210] This TensorFlow binary is optimized to use available CPU instructions in performance-critical operations.\n",
      "To enable the following instructions: AVX2 FMA, in other operations, rebuild TensorFlow with the appropriate compiler flags.\n",
      "2024-10-10 17:06:12.018336: W tensorflow/compiler/tf2tensorrt/utils/py_utils.cc:38] TF-TRT Warning: Could not find TensorRT\n"
     ]
    }
   ],
   "source": [
    "import keras\n",
    "import numpy as np \n",
    "import tensorflow as tf\n",
    "import matplotlib.pyplot as plt"
   ]
  },
  {
   "cell_type": "markdown",
   "id": "638dddde-2378-4ece-b4a9-5ba9177ecf01",
   "metadata": {},
   "source": [
    "# Regression"
   ]
  },
  {
   "cell_type": "markdown",
   "id": "6957f550-78ca-4cfa-a0bf-e0ff6d10a4cc",
   "metadata": {},
   "source": [
    "## Data"
   ]
  },
  {
   "cell_type": "code",
   "execution_count": 2,
   "id": "65281802-1621-453b-a9dc-b777371af2bd",
   "metadata": {},
   "outputs": [
    {
     "name": "stdout",
     "output_type": "stream",
     "text": [
      "x shape:  (1000, 5)\n",
      "y shape:  (1000,)\n"
     ]
    }
   ],
   "source": [
    "from sklearn.datasets import make_regression\n",
    "\n",
    "data = make_regression(n_samples=1000, n_features=5, noise=0.2, random_state=42)\n",
    "\n",
    "x = data[0]\n",
    "y = data[1]\n",
    "\n",
    "print(\"x shape: \", x.shape)\n",
    "print(\"y shape: \", y.shape)"
   ]
  },
  {
   "cell_type": "markdown",
   "id": "6f8d19d1-f000-41c7-b260-c568730453ae",
   "metadata": {},
   "source": [
    "### Train Test Split"
   ]
  },
  {
   "cell_type": "code",
   "execution_count": 3,
   "id": "3e6b50f6-7ef9-4b0f-8c73-437ce9ce53e5",
   "metadata": {},
   "outputs": [],
   "source": [
    "from sklearn.model_selection import train_test_split\n",
    "\n",
    "x_train, x_test, y_train, y_test = train_test_split(x, y, test_size=0.2)"
   ]
  },
  {
   "cell_type": "markdown",
   "id": "650ce214-37c3-41ab-9665-337e3d5130ae",
   "metadata": {},
   "source": [
    "### Scaling Data"
   ]
  },
  {
   "cell_type": "code",
   "execution_count": 4,
   "id": "91bd4c3e-3834-4cab-8f21-9974a7327c7c",
   "metadata": {},
   "outputs": [
    {
     "name": "stdout",
     "output_type": "stream",
     "text": [
      "x_train shape:  (800, 5) y_train shape:  (800,)\n",
      "x_test shape:  (200, 5) y_test shape (200,)\n"
     ]
    }
   ],
   "source": [
    "from sklearn.preprocessing import StandardScaler\n",
    "\n",
    "scaler = StandardScaler()\n",
    "\n",
    "x_train = scaler.fit_transform(x_train)\n",
    "x_test = scaler.fit_transform(x_test)\n",
    "\n",
    "print(\"x_train shape: \", x_train.shape, \"y_train shape: \", y_train.shape)\n",
    "print(\"x_test shape: \", x_test.shape, \"y_test shape\", y_test.shape)"
   ]
  },
  {
   "cell_type": "markdown",
   "id": "1dae302e-f5ee-4a73-9af6-0a62962536a3",
   "metadata": {},
   "source": [
    "## Model"
   ]
  },
  {
   "cell_type": "code",
   "execution_count": 5,
   "id": "ad961e16-1151-4760-a73e-b31034db35f6",
   "metadata": {},
   "outputs": [
    {
     "name": "stderr",
     "output_type": "stream",
     "text": [
      "WARNING: All log messages before absl::InitializeLog() is called are written to STDERR\n",
      "I0000 00:00:1728567374.900080   91858 cuda_executor.cc:1001] could not open file to read NUMA node: /sys/bus/pci/devices/0000:01:00.0/numa_node\n",
      "Your kernel may have been built without NUMA support.\n",
      "2024-10-10 17:06:14.901065: W tensorflow/core/common_runtime/gpu/gpu_device.cc:2343] Cannot dlopen some GPU libraries. Please make sure the missing libraries mentioned above are installed properly if you would like to use GPU. Follow the guide at https://www.tensorflow.org/install/gpu for how to download and setup the required libraries for your platform.\n",
      "Skipping registering GPU devices...\n"
     ]
    },
    {
     "data": {
      "text/html": [
       "<pre style=\"white-space:pre;overflow-x:auto;line-height:normal;font-family:Menlo,'DejaVu Sans Mono',consolas,'Courier New',monospace\"><span style=\"font-weight: bold\">Model: \"sequential\"</span>\n",
       "</pre>\n"
      ],
      "text/plain": [
       "\u001b[1mModel: \"sequential\"\u001b[0m\n"
      ]
     },
     "metadata": {},
     "output_type": "display_data"
    },
    {
     "data": {
      "text/html": [
       "<pre style=\"white-space:pre;overflow-x:auto;line-height:normal;font-family:Menlo,'DejaVu Sans Mono',consolas,'Courier New',monospace\">┏━━━━━━━━━━━━━━━━━━━━━━━━━━━━━━━━━┳━━━━━━━━━━━━━━━━━━━━━━━━┳━━━━━━━━━━━━━━━┓\n",
       "┃<span style=\"font-weight: bold\"> Layer (type)                    </span>┃<span style=\"font-weight: bold\"> Output Shape           </span>┃<span style=\"font-weight: bold\">       Param # </span>┃\n",
       "┡━━━━━━━━━━━━━━━━━━━━━━━━━━━━━━━━━╇━━━━━━━━━━━━━━━━━━━━━━━━╇━━━━━━━━━━━━━━━┩\n",
       "│ dense (<span style=\"color: #0087ff; text-decoration-color: #0087ff\">Dense</span>)                   │ (<span style=\"color: #00d7ff; text-decoration-color: #00d7ff\">None</span>, <span style=\"color: #00af00; text-decoration-color: #00af00\">16</span>)             │            <span style=\"color: #00af00; text-decoration-color: #00af00\">96</span> │\n",
       "├─────────────────────────────────┼────────────────────────┼───────────────┤\n",
       "│ dense_1 (<span style=\"color: #0087ff; text-decoration-color: #0087ff\">Dense</span>)                 │ (<span style=\"color: #00d7ff; text-decoration-color: #00d7ff\">None</span>, <span style=\"color: #00af00; text-decoration-color: #00af00\">16</span>)             │           <span style=\"color: #00af00; text-decoration-color: #00af00\">272</span> │\n",
       "├─────────────────────────────────┼────────────────────────┼───────────────┤\n",
       "│ dense_2 (<span style=\"color: #0087ff; text-decoration-color: #0087ff\">Dense</span>)                 │ (<span style=\"color: #00d7ff; text-decoration-color: #00d7ff\">None</span>, <span style=\"color: #00af00; text-decoration-color: #00af00\">1</span>)              │            <span style=\"color: #00af00; text-decoration-color: #00af00\">17</span> │\n",
       "└─────────────────────────────────┴────────────────────────┴───────────────┘\n",
       "</pre>\n"
      ],
      "text/plain": [
       "┏━━━━━━━━━━━━━━━━━━━━━━━━━━━━━━━━━┳━━━━━━━━━━━━━━━━━━━━━━━━┳━━━━━━━━━━━━━━━┓\n",
       "┃\u001b[1m \u001b[0m\u001b[1mLayer (type)                   \u001b[0m\u001b[1m \u001b[0m┃\u001b[1m \u001b[0m\u001b[1mOutput Shape          \u001b[0m\u001b[1m \u001b[0m┃\u001b[1m \u001b[0m\u001b[1m      Param #\u001b[0m\u001b[1m \u001b[0m┃\n",
       "┡━━━━━━━━━━━━━━━━━━━━━━━━━━━━━━━━━╇━━━━━━━━━━━━━━━━━━━━━━━━╇━━━━━━━━━━━━━━━┩\n",
       "│ dense (\u001b[38;5;33mDense\u001b[0m)                   │ (\u001b[38;5;45mNone\u001b[0m, \u001b[38;5;34m16\u001b[0m)             │            \u001b[38;5;34m96\u001b[0m │\n",
       "├─────────────────────────────────┼────────────────────────┼───────────────┤\n",
       "│ dense_1 (\u001b[38;5;33mDense\u001b[0m)                 │ (\u001b[38;5;45mNone\u001b[0m, \u001b[38;5;34m16\u001b[0m)             │           \u001b[38;5;34m272\u001b[0m │\n",
       "├─────────────────────────────────┼────────────────────────┼───────────────┤\n",
       "│ dense_2 (\u001b[38;5;33mDense\u001b[0m)                 │ (\u001b[38;5;45mNone\u001b[0m, \u001b[38;5;34m1\u001b[0m)              │            \u001b[38;5;34m17\u001b[0m │\n",
       "└─────────────────────────────────┴────────────────────────┴───────────────┘\n"
      ]
     },
     "metadata": {},
     "output_type": "display_data"
    },
    {
     "data": {
      "text/html": [
       "<pre style=\"white-space:pre;overflow-x:auto;line-height:normal;font-family:Menlo,'DejaVu Sans Mono',consolas,'Courier New',monospace\"><span style=\"font-weight: bold\"> Total params: </span><span style=\"color: #00af00; text-decoration-color: #00af00\">385</span> (1.50 KB)\n",
       "</pre>\n"
      ],
      "text/plain": [
       "\u001b[1m Total params: \u001b[0m\u001b[38;5;34m385\u001b[0m (1.50 KB)\n"
      ]
     },
     "metadata": {},
     "output_type": "display_data"
    },
    {
     "data": {
      "text/html": [
       "<pre style=\"white-space:pre;overflow-x:auto;line-height:normal;font-family:Menlo,'DejaVu Sans Mono',consolas,'Courier New',monospace\"><span style=\"font-weight: bold\"> Trainable params: </span><span style=\"color: #00af00; text-decoration-color: #00af00\">385</span> (1.50 KB)\n",
       "</pre>\n"
      ],
      "text/plain": [
       "\u001b[1m Trainable params: \u001b[0m\u001b[38;5;34m385\u001b[0m (1.50 KB)\n"
      ]
     },
     "metadata": {},
     "output_type": "display_data"
    },
    {
     "data": {
      "text/html": [
       "<pre style=\"white-space:pre;overflow-x:auto;line-height:normal;font-family:Menlo,'DejaVu Sans Mono',consolas,'Courier New',monospace\"><span style=\"font-weight: bold\"> Non-trainable params: </span><span style=\"color: #00af00; text-decoration-color: #00af00\">0</span> (0.00 B)\n",
       "</pre>\n"
      ],
      "text/plain": [
       "\u001b[1m Non-trainable params: \u001b[0m\u001b[38;5;34m0\u001b[0m (0.00 B)\n"
      ]
     },
     "metadata": {},
     "output_type": "display_data"
    }
   ],
   "source": [
    "from keras.models import Sequential\n",
    "from keras.layers import Input, Dense\n",
    "\n",
    "model = Sequential()\n",
    "\n",
    "# input layer:\n",
    "model.add(Input((5,)))\n",
    "# dense 1:\n",
    "model.add(Dense(units=16, activation=\"relu\"))\n",
    "# dense 2:\n",
    "model.add(Dense(units=16, activation=\"relu\"))\n",
    "# output layer:\n",
    "model.add(Dense(units=1, activation=\"linear\"))\n",
    "\n",
    "model.summary()"
   ]
  },
  {
   "cell_type": "markdown",
   "id": "4ecc7b83-411a-4663-becf-8947d7561f7b",
   "metadata": {},
   "source": [
    "### Compilation"
   ]
  },
  {
   "cell_type": "code",
   "execution_count": 6,
   "id": "af6d6afd-10d5-4281-bdc8-dd3fa772a395",
   "metadata": {},
   "outputs": [
    {
     "name": "stdout",
     "output_type": "stream",
     "text": [
      "Epoch 1/100\n",
      "15/15 - 1s - 81ms/step - loss: 4004.7517 - val_loss: 5137.0923\n",
      "Epoch 2/100\n",
      "15/15 - 0s - 12ms/step - loss: 3989.4695 - val_loss: 5120.1709\n",
      "Epoch 3/100\n",
      "15/15 - 0s - 10ms/step - loss: 3971.3459 - val_loss: 5098.3789\n",
      "Epoch 4/100\n",
      "15/15 - 0s - 8ms/step - loss: 3948.1770 - val_loss: 5069.9155\n",
      "Epoch 5/100\n",
      "15/15 - 0s - 5ms/step - loss: 3918.2834 - val_loss: 5033.3149\n",
      "Epoch 6/100\n",
      "15/15 - 0s - 9ms/step - loss: 3880.8264 - val_loss: 4984.1782\n",
      "Epoch 7/100\n",
      "15/15 - 0s - 5ms/step - loss: 3833.1499 - val_loss: 4921.9307\n",
      "Epoch 8/100\n",
      "15/15 - 0s - 6ms/step - loss: 3773.4822 - val_loss: 4844.2671\n",
      "Epoch 9/100\n",
      "15/15 - 0s - 6ms/step - loss: 3700.5149 - val_loss: 4745.7661\n",
      "Epoch 10/100\n",
      "15/15 - 0s - 6ms/step - loss: 3611.2063 - val_loss: 4626.9541\n",
      "Epoch 11/100\n",
      "15/15 - 0s - 9ms/step - loss: 3499.4243 - val_loss: 4487.1890\n",
      "Epoch 12/100\n",
      "15/15 - 0s - 9ms/step - loss: 3376.1077 - val_loss: 4312.6948\n",
      "Epoch 13/100\n",
      "15/15 - 0s - 10ms/step - loss: 3224.6965 - val_loss: 4122.8765\n",
      "Epoch 14/100\n",
      "15/15 - 0s - 9ms/step - loss: 3058.9661 - val_loss: 3908.1812\n",
      "Epoch 15/100\n",
      "15/15 - 0s - 11ms/step - loss: 2875.2141 - val_loss: 3681.9485\n",
      "Epoch 16/100\n",
      "15/15 - 0s - 8ms/step - loss: 2684.5010 - val_loss: 3443.3079\n",
      "Epoch 17/100\n",
      "15/15 - 0s - 5ms/step - loss: 2490.9956 - val_loss: 3206.3445\n",
      "Epoch 18/100\n",
      "15/15 - 0s - 5ms/step - loss: 2295.4661 - val_loss: 2971.6492\n",
      "Epoch 19/100\n",
      "15/15 - 0s - 5ms/step - loss: 2103.9258 - val_loss: 2755.5403\n",
      "Epoch 20/100\n",
      "15/15 - 0s - 11ms/step - loss: 1930.8992 - val_loss: 2547.2097\n",
      "Epoch 21/100\n",
      "15/15 - 0s - 5ms/step - loss: 1761.7478 - val_loss: 2358.4165\n",
      "Epoch 22/100\n",
      "15/15 - 0s - 10ms/step - loss: 1613.2394 - val_loss: 2172.8835\n",
      "Epoch 23/100\n",
      "15/15 - 0s - 10ms/step - loss: 1466.8486 - val_loss: 2004.7488\n",
      "Epoch 24/100\n",
      "15/15 - 0s - 9ms/step - loss: 1334.9554 - val_loss: 1848.3519\n",
      "Epoch 25/100\n",
      "15/15 - 0s - 9ms/step - loss: 1214.9253 - val_loss: 1695.2371\n",
      "Epoch 26/100\n",
      "15/15 - 0s - 5ms/step - loss: 1099.8638 - val_loss: 1550.5508\n",
      "Epoch 27/100\n",
      "15/15 - 0s - 5ms/step - loss: 991.6776 - val_loss: 1408.7546\n",
      "Epoch 28/100\n",
      "15/15 - 0s - 5ms/step - loss: 888.9739 - val_loss: 1273.4330\n",
      "Epoch 29/100\n",
      "15/15 - 0s - 5ms/step - loss: 792.6866 - val_loss: 1149.2415\n",
      "Epoch 30/100\n",
      "15/15 - 0s - 5ms/step - loss: 703.5027 - val_loss: 1033.0549\n",
      "Epoch 31/100\n",
      "15/15 - 0s - 4ms/step - loss: 623.6614 - val_loss: 915.5281\n",
      "Epoch 32/100\n",
      "15/15 - 0s - 4ms/step - loss: 546.0190 - val_loss: 812.5508\n",
      "Epoch 33/100\n",
      "15/15 - 0s - 5ms/step - loss: 478.3317 - val_loss: 717.3430\n",
      "Epoch 34/100\n",
      "15/15 - 0s - 12ms/step - loss: 418.2303 - val_loss: 632.2029\n",
      "Epoch 35/100\n",
      "15/15 - 0s - 7ms/step - loss: 362.8706 - val_loss: 557.0787\n",
      "Epoch 36/100\n",
      "15/15 - 0s - 10ms/step - loss: 316.2344 - val_loss: 488.3016\n",
      "Epoch 37/100\n",
      "15/15 - 0s - 9ms/step - loss: 274.1479 - val_loss: 427.9505\n",
      "Epoch 38/100\n",
      "15/15 - 0s - 10ms/step - loss: 238.2679 - val_loss: 375.4353\n",
      "Epoch 39/100\n",
      "15/15 - 0s - 5ms/step - loss: 207.9541 - val_loss: 333.6635\n",
      "Epoch 40/100\n",
      "15/15 - 0s - 6ms/step - loss: 183.3322 - val_loss: 296.5678\n",
      "Epoch 41/100\n",
      "15/15 - 0s - 5ms/step - loss: 162.0084 - val_loss: 265.0046\n",
      "Epoch 42/100\n",
      "15/15 - 0s - 9ms/step - loss: 144.4380 - val_loss: 240.0687\n",
      "Epoch 43/100\n",
      "15/15 - 0s - 10ms/step - loss: 130.2508 - val_loss: 218.5857\n",
      "Epoch 44/100\n",
      "15/15 - 0s - 9ms/step - loss: 118.3119 - val_loss: 200.1228\n",
      "Epoch 45/100\n",
      "15/15 - 0s - 4ms/step - loss: 107.8010 - val_loss: 183.6359\n",
      "Epoch 46/100\n",
      "15/15 - 0s - 4ms/step - loss: 98.6440 - val_loss: 170.2422\n",
      "Epoch 47/100\n",
      "15/15 - 0s - 4ms/step - loss: 90.6394 - val_loss: 157.7868\n",
      "Epoch 48/100\n",
      "15/15 - 0s - 4ms/step - loss: 83.9544 - val_loss: 146.2722\n",
      "Epoch 49/100\n",
      "15/15 - 0s - 10ms/step - loss: 78.0282 - val_loss: 137.5666\n",
      "Epoch 50/100\n",
      "15/15 - 0s - 4ms/step - loss: 73.2485 - val_loss: 129.7962\n",
      "Epoch 51/100\n",
      "15/15 - 0s - 11ms/step - loss: 68.6876 - val_loss: 122.9890\n",
      "Epoch 52/100\n",
      "15/15 - 0s - 9ms/step - loss: 64.4871 - val_loss: 116.3028\n",
      "Epoch 53/100\n",
      "15/15 - 0s - 4ms/step - loss: 60.5272 - val_loss: 109.6934\n",
      "Epoch 54/100\n",
      "15/15 - 0s - 9ms/step - loss: 56.7075 - val_loss: 104.2650\n",
      "Epoch 55/100\n",
      "15/15 - 0s - 4ms/step - loss: 53.4671 - val_loss: 100.1978\n",
      "Epoch 56/100\n",
      "15/15 - 0s - 4ms/step - loss: 50.8418 - val_loss: 95.8007\n",
      "Epoch 57/100\n",
      "15/15 - 0s - 4ms/step - loss: 48.4598 - val_loss: 90.5847\n",
      "Epoch 58/100\n",
      "15/15 - 0s - 5ms/step - loss: 46.3601 - val_loss: 86.6743\n",
      "Epoch 59/100\n",
      "15/15 - 0s - 9ms/step - loss: 44.6870 - val_loss: 83.7593\n",
      "Epoch 60/100\n",
      "15/15 - 0s - 5ms/step - loss: 43.4734 - val_loss: 81.3782\n",
      "Epoch 61/100\n",
      "15/15 - 0s - 9ms/step - loss: 42.3991 - val_loss: 78.9566\n",
      "Epoch 62/100\n",
      "15/15 - 0s - 13ms/step - loss: 41.6782 - val_loss: 77.2132\n",
      "Epoch 63/100\n",
      "15/15 - 0s - 16ms/step - loss: 41.0022 - val_loss: 75.5866\n",
      "Epoch 64/100\n",
      "15/15 - 0s - 5ms/step - loss: 40.3371 - val_loss: 74.7234\n",
      "Epoch 65/100\n",
      "15/15 - 0s - 9ms/step - loss: 39.8201 - val_loss: 73.2000\n",
      "Epoch 66/100\n",
      "15/15 - 0s - 6ms/step - loss: 39.3451 - val_loss: 72.1551\n",
      "Epoch 67/100\n",
      "15/15 - 0s - 8ms/step - loss: 38.7162 - val_loss: 71.5848\n",
      "Epoch 68/100\n",
      "15/15 - 0s - 5ms/step - loss: 38.5797 - val_loss: 69.9987\n",
      "Epoch 69/100\n",
      "15/15 - 0s - 12ms/step - loss: 37.8821 - val_loss: 68.8288\n",
      "Epoch 70/100\n",
      "15/15 - 0s - 9ms/step - loss: 37.4118 - val_loss: 68.1325\n",
      "Epoch 71/100\n",
      "15/15 - 0s - 9ms/step - loss: 36.8494 - val_loss: 67.5105\n",
      "Epoch 72/100\n",
      "15/15 - 0s - 9ms/step - loss: 36.4681 - val_loss: 66.9110\n",
      "Epoch 73/100\n",
      "15/15 - 0s - 5ms/step - loss: 36.0240 - val_loss: 65.8490\n",
      "Epoch 74/100\n",
      "15/15 - 0s - 4ms/step - loss: 35.6206 - val_loss: 65.1528\n",
      "Epoch 75/100\n",
      "15/15 - 0s - 9ms/step - loss: 35.2810 - val_loss: 64.3044\n",
      "Epoch 76/100\n",
      "15/15 - 0s - 10ms/step - loss: 34.9018 - val_loss: 63.7015\n",
      "Epoch 77/100\n",
      "15/15 - 0s - 10ms/step - loss: 34.5443 - val_loss: 63.4101\n",
      "Epoch 78/100\n",
      "15/15 - 0s - 8ms/step - loss: 34.1354 - val_loss: 62.3145\n",
      "Epoch 79/100\n",
      "15/15 - 0s - 12ms/step - loss: 33.8713 - val_loss: 60.9084\n",
      "Epoch 80/100\n",
      "15/15 - 0s - 4ms/step - loss: 33.3676 - val_loss: 61.2824\n",
      "Epoch 81/100\n",
      "15/15 - 0s - 6ms/step - loss: 33.1294 - val_loss: 60.9394\n",
      "Epoch 82/100\n",
      "15/15 - 0s - 8ms/step - loss: 32.7831 - val_loss: 59.0293\n",
      "Epoch 83/100\n",
      "15/15 - 0s - 6ms/step - loss: 32.3363 - val_loss: 59.4507\n",
      "Epoch 84/100\n",
      "15/15 - 0s - 5ms/step - loss: 31.9082 - val_loss: 58.6932\n",
      "Epoch 85/100\n",
      "15/15 - 0s - 6ms/step - loss: 31.5962 - val_loss: 57.8283\n",
      "Epoch 86/100\n",
      "15/15 - 0s - 8ms/step - loss: 31.1610 - val_loss: 57.2578\n",
      "Epoch 87/100\n",
      "15/15 - 0s - 9ms/step - loss: 30.8520 - val_loss: 56.3593\n",
      "Epoch 88/100\n",
      "15/15 - 0s - 9ms/step - loss: 30.4351 - val_loss: 55.9391\n",
      "Epoch 89/100\n",
      "15/15 - 0s - 6ms/step - loss: 30.1800 - val_loss: 55.7367\n",
      "Epoch 90/100\n",
      "15/15 - 0s - 10ms/step - loss: 29.7637 - val_loss: 54.6253\n",
      "Epoch 91/100\n",
      "15/15 - 0s - 6ms/step - loss: 29.3704 - val_loss: 54.5359\n",
      "Epoch 92/100\n",
      "15/15 - 0s - 5ms/step - loss: 28.9855 - val_loss: 53.8029\n",
      "Epoch 93/100\n",
      "15/15 - 0s - 5ms/step - loss: 28.7196 - val_loss: 53.0676\n",
      "Epoch 94/100\n",
      "15/15 - 0s - 5ms/step - loss: 28.3197 - val_loss: 52.5606\n",
      "Epoch 95/100\n",
      "15/15 - 0s - 5ms/step - loss: 27.8284 - val_loss: 51.7704\n",
      "Epoch 96/100\n",
      "15/15 - 0s - 5ms/step - loss: 27.5218 - val_loss: 50.8680\n",
      "Epoch 97/100\n",
      "15/15 - 0s - 9ms/step - loss: 27.1657 - val_loss: 50.1535\n",
      "Epoch 98/100\n",
      "15/15 - 0s - 8ms/step - loss: 26.7616 - val_loss: 49.9930\n",
      "Epoch 99/100\n",
      "15/15 - 0s - 6ms/step - loss: 26.3259 - val_loss: 49.0725\n",
      "Epoch 100/100\n",
      "15/15 - 0s - 8ms/step - loss: 26.0444 - val_loss: 48.0942\n"
     ]
    },
    {
     "data": {
      "text/plain": [
       "<keras.src.callbacks.history.History at 0x7fef9a37ded0>"
      ]
     },
     "execution_count": 6,
     "metadata": {},
     "output_type": "execute_result"
    }
   ],
   "source": [
    "loss = tf.losses.MeanSquaredError()\n",
    "optimizer = tf.optimizers.Adam()\n",
    "model.compile(loss=loss, optimizer=optimizer)\n",
    "\n",
    "model.fit(x_train, y_train, validation_split=0.1, epochs=100, batch_size=50, verbose=2)"
   ]
  },
  {
   "cell_type": "markdown",
   "id": "21fb5457-c245-4764-8934-247aca33921e",
   "metadata": {},
   "source": [
    "### Evaluation"
   ]
  },
  {
   "cell_type": "markdown",
   "id": "79fb6aff-91f1-444a-bf17-5ec5db5a4de2",
   "metadata": {},
   "source": [
    "#### Train"
   ]
  },
  {
   "cell_type": "code",
   "execution_count": 7,
   "id": "c72b3f8d-21d0-42e8-89c6-6ba1a3387968",
   "metadata": {},
   "outputs": [
    {
     "name": "stdout",
     "output_type": "stream",
     "text": [
      "\u001b[1m25/25\u001b[0m \u001b[32m━━━━━━━━━━━━━━━━━━━━\u001b[0m\u001b[37m\u001b[0m \u001b[1m0s\u001b[0m 2ms/step - loss: 27.4761\n"
     ]
    },
    {
     "data": {
      "text/plain": [
       "27.959732055664062"
      ]
     },
     "execution_count": 7,
     "metadata": {},
     "output_type": "execute_result"
    }
   ],
   "source": [
    "model.evaluate(x_train, y_train)"
   ]
  },
  {
   "cell_type": "markdown",
   "id": "3acc17d5-b733-4e6e-9f78-755cca4a6274",
   "metadata": {},
   "source": [
    "#### Test"
   ]
  },
  {
   "cell_type": "code",
   "execution_count": 8,
   "id": "3efbe0c2-63c9-419b-be02-fda100502199",
   "metadata": {},
   "outputs": [
    {
     "name": "stdout",
     "output_type": "stream",
     "text": [
      "\u001b[1m7/7\u001b[0m \u001b[32m━━━━━━━━━━━━━━━━━━━━\u001b[0m\u001b[37m\u001b[0m \u001b[1m0s\u001b[0m 2ms/step - loss: 49.1482\n"
     ]
    },
    {
     "data": {
      "text/plain": [
       "41.984893798828125"
      ]
     },
     "execution_count": 8,
     "metadata": {},
     "output_type": "execute_result"
    }
   ],
   "source": [
    "model.evaluate(x_test, y_test)"
   ]
  },
  {
   "cell_type": "markdown",
   "id": "4c3ad229-f5bf-4947-b313-2699deb664d7",
   "metadata": {},
   "source": [
    "#### R2 Score"
   ]
  },
  {
   "cell_type": "code",
   "execution_count": 9,
   "id": "a4fcae59-1fd1-4912-8990-71bf5892758c",
   "metadata": {},
   "outputs": [
    {
     "name": "stdout",
     "output_type": "stream",
     "text": [
      "\u001b[1m7/7\u001b[0m \u001b[32m━━━━━━━━━━━━━━━━━━━━\u001b[0m\u001b[37m\u001b[0m \u001b[1m0s\u001b[0m 7ms/step \n",
      "R2 score: 0.990394550119355\n"
     ]
    }
   ],
   "source": [
    "from sklearn.metrics import r2_score\n",
    "\n",
    "y_predict = model.predict(x_test)\n",
    "\n",
    "print(\"R2 score:\", r2_score(y_test, y_predict))"
   ]
  },
  {
   "cell_type": "markdown",
   "id": "fc024018-1f73-4b94-9fa9-97e40f139073",
   "metadata": {},
   "source": [
    "#### Visualization"
   ]
  },
  {
   "cell_type": "code",
   "execution_count": 10,
   "id": "7d66f411-050b-4e89-99ae-b84356b8b985",
   "metadata": {},
   "outputs": [
    {
     "data": {
      "text/plain": [
       "<matplotlib.legend.Legend at 0x7fef8c2b0810>"
      ]
     },
     "execution_count": 10,
     "metadata": {},
     "output_type": "execute_result"
    },
    {
     "data": {
      "image/png": "[encoded data removed]",
      "text/plain": [
       "<Figure size 640x480 with 1 Axes>"
      ]
     },
     "metadata": {},
     "output_type": "display_data"
    }
   ],
   "source": [
    "plt.scatter(range(len(y_predict)), y_predict, color=\"red\", label=\"predict\")\n",
    "plt.scatter(range(len(y_predict)), y_test, color=\"blue\", label=\"data\")\n",
    "plt.title(\"Neural Network for a sample dateset\")\n",
    "plt.ylabel(\"Target Value\")\n",
    "plt.xlabel(\"Index\")\n",
    "plt.legend(loc=\"best\")"
   ]
  },
  {
   "cell_type": "markdown",
   "id": "02ca6b8d-ee7f-472d-ae98-a1fcb1867125",
   "metadata": {},
   "source": [
    "# Classification"
   ]
  },
  {
   "cell_type": "markdown",
   "id": "5bcbd3a3-45a7-419d-bf59-96f57ca87942",
   "metadata": {},
   "source": [
    "## Data"
   ]
  },
  {
   "cell_type": "code",
   "execution_count": 11,
   "id": "3b12ee4b-624b-4bd0-86a0-c06d541b2d85",
   "metadata": {},
   "outputs": [
    {
     "name": "stdout",
     "output_type": "stream",
     "text": [
      "Loads the Fashion-MNIST dataset.\n",
      "\n",
      "    This is a dataset of 60,000 28x28 grayscale images of 10 fashion categories,\n",
      "    along with a test set of 10,000 images. This dataset can be used as\n",
      "    a drop-in replacement for MNIST.\n",
      "\n",
      "    The classes are:\n",
      "\n",
      "    | Label | Description |\n",
      "    |:-----:|-------------|\n",
      "    |   0   | T-shirt/top |\n",
      "    |   1   | Trouser     |\n",
      "    |   2   | Pullover    |\n",
      "    |   3   | Dress       |\n",
      "    |   4   | Coat        |\n",
      "    |   5   | Sandal      |\n",
      "    |   6   | Shirt       |\n",
      "    |   7   | Sneaker     |\n",
      "    |   8   | Bag         |\n",
      "    |   9   | Ankle boot  |\n",
      "\n",
      "    Returns:\n",
      "\n",
      "    Tuple of NumPy arrays: `(x_train, y_train), (x_test, y_test)`.\n",
      "\n",
      "    **`x_train`**: `uint8` NumPy array of grayscale image data with shapes\n",
      "      `(60000, 28, 28)`, containing the training data.\n",
      "\n",
      "    **`y_train`**: `uint8` NumPy array of labels (integers in range 0-9)\n",
      "      with shape `(60000,)` for the training data.\n",
      "\n",
      "    **`x_test`**: `uint8` NumPy array of grayscale image data with shapes\n",
      "      (10000, 28, 28), containing the test data.\n",
      "\n",
      "    **`y_test`**: `uint8` NumPy array of labels (integers in range 0-9)\n",
      "      with shape `(10000,)` for the test data.\n",
      "\n",
      "    Example:\n",
      "\n",
      "    ```python\n",
      "    (x_train, y_train), (x_test, y_test) = fashion_mnist.load_data()\n",
      "    assert x_train.shape == (60000, 28, 28)\n",
      "    assert x_test.shape == (10000, 28, 28)\n",
      "    assert y_train.shape == (60000,)\n",
      "    assert y_test.shape == (10000,)\n",
      "    ```\n",
      "\n",
      "    License:\n",
      "\n",
      "    The copyright for Fashion-MNIST is held by Zalando SE.\n",
      "    Fashion-MNIST is licensed under the [MIT license](\n",
      "        https://github.com/zalandoresearch/fashion-mnist/blob/master/LICENSE).\n",
      "    \n"
     ]
    }
   ],
   "source": [
    "from keras.datasets import fashion_mnist\n",
    "\n",
    "print(fashion_mnist.load_data.__doc__)"
   ]
  },
  {
   "cell_type": "code",
   "execution_count": 12,
   "id": "5163c74e-3c0a-4d0f-a166-2755b0a618fa",
   "metadata": {},
   "outputs": [],
   "source": [
    "class_name = {\n",
    "       0: \"T-shirt/top\", \n",
    "       1: \"Trouser\",     \n",
    "       2: \"Pullover\",    \n",
    "       3: \"Dress\",       \n",
    "       4: \"Coat\",        \n",
    "       5: \"Sandal\",      \n",
    "       6: \"Shirt\",      \n",
    "       7: \"Sneaker\",     \n",
    "       8: \"Bag\",         \n",
    "       9: \"Ankle boot\",  \n",
    "}"
   ]
  },
  {
   "cell_type": "markdown",
   "id": "d9267180-0851-4844-aff4-66d779e85b9f",
   "metadata": {},
   "source": [
    "### Train Test Split"
   ]
  },
  {
   "cell_type": "code",
   "execution_count": 13,
   "id": "47e353da-ac85-45fb-ba3b-d29dc21fd89b",
   "metadata": {},
   "outputs": [
    {
     "name": "stdout",
     "output_type": "stream",
     "text": [
      "x_train shape: (60000, 28, 28)\n",
      "y_train shape: (60000,)\n",
      "x_test shape: (10000, 28, 28)\n",
      "y_test shape: (10000,)\n"
     ]
    }
   ],
   "source": [
    "import requests\n",
    "import gzip\n",
    "import numpy as np\n",
    "\n",
    "#(x_train, y_traina), (x_test, y_test) = fashion_mnist.load_data()\n",
    "\n",
    "def load_images_from_gzip(filename):\n",
    "    with gzip.open(filename, 'rb') as f:\n",
    "        data = np.frombuffer(f.read(), np.uint8, offset=16).reshape(-1, 28, 28)\n",
    "        return data\n",
    "\n",
    "def load_labels_from_gzip(filename):\n",
    "    with gzip.open(filename, 'rb') as f:\n",
    "        labels = np.frombuffer(f.read(), np.uint8, offset=8)\n",
    "        return labels\n",
    "\n",
    "# Load dataset\n",
    "x_train = load_images_from_gzip('./fashion_mnist_dataset/train-images-idx3-ubyte.gz')\n",
    "y_train = load_labels_from_gzip('./fashion_mnist_dataset/train-labels-idx1-ubyte.gz')\n",
    "x_test = load_images_from_gzip('./fashion_mnist_dataset/t10k-images-idx3-ubyte.gz')\n",
    "y_test = load_labels_from_gzip('./fashion_mnist_dataset/t10k-labels-idx1-ubyte.gz')\n",
    "\n",
    "print(f\"x_train shape: {x_train.shape}\")\n",
    "print(f\"y_train shape: {y_train.shape}\")\n",
    "print(f\"x_test shape: {x_test.shape}\")\n",
    "print(f\"y_test shape: {y_test.shape}\")"
   ]
  },
  {
   "cell_type": "markdown",
   "id": "f7f045e4-b2ac-44c7-91b7-67e33727610f",
   "metadata": {},
   "source": [
    "### Data Example"
   ]
  },
  {
   "cell_type": "code",
   "execution_count": 14,
   "id": "fb8c79de-b038-4d90-9039-b9d7e761261c",
   "metadata": {},
   "outputs": [
    {
     "name": "stdout",
     "output_type": "stream",
     "text": [
      "label:  9\n",
      "class name:  Ankle boot\n"
     ]
    },
    {
     "data": {
      "image/png": "[encoded data removed]",
      "text/plain": [
       "<Figure size 640x480 with 1 Axes>"
      ]
     },
     "metadata": {},
     "output_type": "display_data"
    }
   ],
   "source": [
    "index = 111\n",
    "plt.imshow(x_train[index], cmap=\"gray\")\n",
    "print(\"label: \", y_train[index])\n",
    "print(\"class name: \", class_name[y_train[index]])"
   ]
  },
  {
   "cell_type": "markdown",
   "id": "939556bc-c01f-49b3-b6df-21cbcb14db83",
   "metadata": {},
   "source": [
    "### Normalizing Data"
   ]
  },
  {
   "cell_type": "code",
   "execution_count": 15,
   "id": "b793f80c-605c-4524-8007-f43e6241f2d1",
   "metadata": {},
   "outputs": [],
   "source": [
    "x_train = x_train/x_train.max()\n",
    "x_test = x_test/x_test.max()"
   ]
  },
  {
   "cell_type": "markdown",
   "id": "de0a231c-981d-48f8-a60b-0d14de809cbe",
   "metadata": {},
   "source": [
    "### One-hot"
   ]
  },
  {
   "cell_type": "code",
   "execution_count": 16,
   "id": "d535dc81-3a00-4e97-96f3-ecdd0da77bbf",
   "metadata": {},
   "outputs": [],
   "source": [
    "from keras.utils import to_categorical\n",
    "\n",
    "y_train = to_categorical(y_train, num_classes=10)\n",
    "y_test = to_categorical(y_test, num_classes=10)"
   ]
  },
  {
   "cell_type": "markdown",
   "id": "c788eb81-37e9-4c02-9e48-3db6107324cd",
   "metadata": {},
   "source": [
    "## Model"
   ]
  },
  {
   "cell_type": "code",
   "execution_count": 17,
   "id": "0511f27a-4664-4bb6-aa12-cb93ab8219db",
   "metadata": {},
   "outputs": [
    {
     "data": {
      "text/html": [
       "<pre style=\"white-space:pre;overflow-x:auto;line-height:normal;font-family:Menlo,'DejaVu Sans Mono',consolas,'Courier New',monospace\"><span style=\"font-weight: bold\">Model: \"sequential_1\"</span>\n",
       "</pre>\n"
      ],
      "text/plain": [
       "\u001b[1mModel: \"sequential_1\"\u001b[0m\n"
      ]
     },
     "metadata": {},
     "output_type": "display_data"
    },
    {
     "data": {
      "text/html": [
       "<pre style=\"white-space:pre;overflow-x:auto;line-height:normal;font-family:Menlo,'DejaVu Sans Mono',consolas,'Courier New',monospace\">┏━━━━━━━━━━━━━━━━━━━━━━━━━━━━━━━━━┳━━━━━━━━━━━━━━━━━━━━━━━━┳━━━━━━━━━━━━━━━┓\n",
       "┃<span style=\"font-weight: bold\"> Layer (type)                    </span>┃<span style=\"font-weight: bold\"> Output Shape           </span>┃<span style=\"font-weight: bold\">       Param # </span>┃\n",
       "┡━━━━━━━━━━━━━━━━━━━━━━━━━━━━━━━━━╇━━━━━━━━━━━━━━━━━━━━━━━━╇━━━━━━━━━━━━━━━┩\n",
       "│ flatten (<span style=\"color: #0087ff; text-decoration-color: #0087ff\">Flatten</span>)               │ (<span style=\"color: #00d7ff; text-decoration-color: #00d7ff\">None</span>, <span style=\"color: #00af00; text-decoration-color: #00af00\">784</span>)            │             <span style=\"color: #00af00; text-decoration-color: #00af00\">0</span> │\n",
       "├─────────────────────────────────┼────────────────────────┼───────────────┤\n",
       "│ dense_3 (<span style=\"color: #0087ff; text-decoration-color: #0087ff\">Dense</span>)                 │ (<span style=\"color: #00d7ff; text-decoration-color: #00d7ff\">None</span>, <span style=\"color: #00af00; text-decoration-color: #00af00\">128</span>)            │       <span style=\"color: #00af00; text-decoration-color: #00af00\">100,480</span> │\n",
       "├─────────────────────────────────┼────────────────────────┼───────────────┤\n",
       "│ dense_4 (<span style=\"color: #0087ff; text-decoration-color: #0087ff\">Dense</span>)                 │ (<span style=\"color: #00d7ff; text-decoration-color: #00d7ff\">None</span>, <span style=\"color: #00af00; text-decoration-color: #00af00\">128</span>)            │        <span style=\"color: #00af00; text-decoration-color: #00af00\">16,512</span> │\n",
       "├─────────────────────────────────┼────────────────────────┼───────────────┤\n",
       "│ dense_5 (<span style=\"color: #0087ff; text-decoration-color: #0087ff\">Dense</span>)                 │ (<span style=\"color: #00d7ff; text-decoration-color: #00d7ff\">None</span>, <span style=\"color: #00af00; text-decoration-color: #00af00\">10</span>)             │         <span style=\"color: #00af00; text-decoration-color: #00af00\">1,290</span> │\n",
       "└─────────────────────────────────┴────────────────────────┴───────────────┘\n",
       "</pre>\n"
      ],
      "text/plain": [
       "┏━━━━━━━━━━━━━━━━━━━━━━━━━━━━━━━━━┳━━━━━━━━━━━━━━━━━━━━━━━━┳━━━━━━━━━━━━━━━┓\n",
       "┃\u001b[1m \u001b[0m\u001b[1mLayer (type)                   \u001b[0m\u001b[1m \u001b[0m┃\u001b[1m \u001b[0m\u001b[1mOutput Shape          \u001b[0m\u001b[1m \u001b[0m┃\u001b[1m \u001b[0m\u001b[1m      Param #\u001b[0m\u001b[1m \u001b[0m┃\n",
       "┡━━━━━━━━━━━━━━━━━━━━━━━━━━━━━━━━━╇━━━━━━━━━━━━━━━━━━━━━━━━╇━━━━━━━━━━━━━━━┩\n",
       "│ flatten (\u001b[38;5;33mFlatten\u001b[0m)               │ (\u001b[38;5;45mNone\u001b[0m, \u001b[38;5;34m784\u001b[0m)            │             \u001b[38;5;34m0\u001b[0m │\n",
       "├─────────────────────────────────┼────────────────────────┼───────────────┤\n",
       "│ dense_3 (\u001b[38;5;33mDense\u001b[0m)                 │ (\u001b[38;5;45mNone\u001b[0m, \u001b[38;5;34m128\u001b[0m)            │       \u001b[38;5;34m100,480\u001b[0m │\n",
       "├─────────────────────────────────┼────────────────────────┼───────────────┤\n",
       "│ dense_4 (\u001b[38;5;33mDense\u001b[0m)                 │ (\u001b[38;5;45mNone\u001b[0m, \u001b[38;5;34m128\u001b[0m)            │        \u001b[38;5;34m16,512\u001b[0m │\n",
       "├─────────────────────────────────┼────────────────────────┼───────────────┤\n",
       "│ dense_5 (\u001b[38;5;33mDense\u001b[0m)                 │ (\u001b[38;5;45mNone\u001b[0m, \u001b[38;5;34m10\u001b[0m)             │         \u001b[38;5;34m1,290\u001b[0m │\n",
       "└─────────────────────────────────┴────────────────────────┴───────────────┘\n"
      ]
     },
     "metadata": {},
     "output_type": "display_data"
    },
    {
     "data": {
      "text/html": [
       "<pre style=\"white-space:pre;overflow-x:auto;line-height:normal;font-family:Menlo,'DejaVu Sans Mono',consolas,'Courier New',monospace\"><span style=\"font-weight: bold\"> Total params: </span><span style=\"color: #00af00; text-decoration-color: #00af00\">118,282</span> (462.04 KB)\n",
       "</pre>\n"
      ],
      "text/plain": [
       "\u001b[1m Total params: \u001b[0m\u001b[38;5;34m118,282\u001b[0m (462.04 KB)\n"
      ]
     },
     "metadata": {},
     "output_type": "display_data"
    },
    {
     "data": {
      "text/html": [
       "<pre style=\"white-space:pre;overflow-x:auto;line-height:normal;font-family:Menlo,'DejaVu Sans Mono',consolas,'Courier New',monospace\"><span style=\"font-weight: bold\"> Trainable params: </span><span style=\"color: #00af00; text-decoration-color: #00af00\">118,282</span> (462.04 KB)\n",
       "</pre>\n"
      ],
      "text/plain": [
       "\u001b[1m Trainable params: \u001b[0m\u001b[38;5;34m118,282\u001b[0m (462.04 KB)\n"
      ]
     },
     "metadata": {},
     "output_type": "display_data"
    },
    {
     "data": {
      "text/html": [
       "<pre style=\"white-space:pre;overflow-x:auto;line-height:normal;font-family:Menlo,'DejaVu Sans Mono',consolas,'Courier New',monospace\"><span style=\"font-weight: bold\"> Non-trainable params: </span><span style=\"color: #00af00; text-decoration-color: #00af00\">0</span> (0.00 B)\n",
       "</pre>\n"
      ],
      "text/plain": [
       "\u001b[1m Non-trainable params: \u001b[0m\u001b[38;5;34m0\u001b[0m (0.00 B)\n"
      ]
     },
     "metadata": {},
     "output_type": "display_data"
    }
   ],
   "source": [
    "from keras.layers import Flatten\n",
    "\n",
    "model = Sequential()\n",
    "\n",
    "# input layer:\n",
    "model.add(Input((28, 28)))\n",
    "# flatten:\n",
    "model.add(Flatten())\n",
    "# dense 1:\n",
    "model.add(Dense(units=128, activation=\"relu\"))\n",
    "# dense 2:\n",
    "model.add(Dense(units=128, activation=\"relu\"))\n",
    "# output layer:\n",
    "model.add(Dense(units=10, activation=\"softmax\"))\n",
    "\n",
    "model.summary()"
   ]
  },
  {
   "cell_type": "markdown",
   "id": "a31170cd-bf20-4172-ade5-b4711d67efa5",
   "metadata": {},
   "source": [
    "### Compilation"
   ]
  },
  {
   "cell_type": "code",
   "execution_count": 18,
   "id": "23aeed20-2414-4714-9186-c50c5c119a1a",
   "metadata": {},
   "outputs": [
    {
     "name": "stdout",
     "output_type": "stream",
     "text": [
      "Epoch 1/50\n",
      "\u001b[1m960/960\u001b[0m \u001b[32m━━━━━━━━━━━━━━━━━━━━\u001b[0m\u001b[37m\u001b[0m \u001b[1m6s\u001b[0m 5ms/step - categorical_accuracy: 0.7609 - loss: 0.6844 - val_categorical_accuracy: 0.8503 - val_loss: 0.4290\n",
      "Epoch 2/50\n",
      "\u001b[1m960/960\u001b[0m \u001b[32m━━━━━━━━━━━━━━━━━━━━\u001b[0m\u001b[37m\u001b[0m \u001b[1m5s\u001b[0m 5ms/step - categorical_accuracy: 0.8594 - loss: 0.3870 - val_categorical_accuracy: 0.8560 - val_loss: 0.3970\n",
      "Epoch 3/50\n",
      "\u001b[1m960/960\u001b[0m \u001b[32m━━━━━━━━━━━━━━━━━━━━\u001b[0m\u001b[37m\u001b[0m \u001b[1m5s\u001b[0m 5ms/step - categorical_accuracy: 0.8703 - loss: 0.3498 - val_categorical_accuracy: 0.8801 - val_loss: 0.3374\n",
      "Epoch 4/50\n",
      "\u001b[1m960/960\u001b[0m \u001b[32m━━━━━━━━━━━━━━━━━━━━\u001b[0m\u001b[37m\u001b[0m \u001b[1m4s\u001b[0m 4ms/step - categorical_accuracy: 0.8858 - loss: 0.3127 - val_categorical_accuracy: 0.8744 - val_loss: 0.3446\n",
      "Epoch 5/50\n",
      "\u001b[1m960/960\u001b[0m \u001b[32m━━━━━━━━━━━━━━━━━━━━\u001b[0m\u001b[37m\u001b[0m \u001b[1m7s\u001b[0m 7ms/step - categorical_accuracy: 0.8916 - loss: 0.2931 - val_categorical_accuracy: 0.8837 - val_loss: 0.3371\n",
      "Epoch 6/50\n",
      "\u001b[1m960/960\u001b[0m \u001b[32m━━━━━━━━━━━━━━━━━━━━\u001b[0m\u001b[37m\u001b[0m \u001b[1m6s\u001b[0m 6ms/step - categorical_accuracy: 0.8977 - loss: 0.2772 - val_categorical_accuracy: 0.8749 - val_loss: 0.3529\n",
      "Epoch 7/50\n",
      "\u001b[1m960/960\u001b[0m \u001b[32m━━━━━━━━━━━━━━━━━━━━\u001b[0m\u001b[37m\u001b[0m \u001b[1m8s\u001b[0m 4ms/step - categorical_accuracy: 0.9005 - loss: 0.2657 - val_categorical_accuracy: 0.8858 - val_loss: 0.3266\n",
      "Epoch 8/50\n",
      "\u001b[1m960/960\u001b[0m \u001b[32m━━━━━━━━━━━━━━━━━━━━\u001b[0m\u001b[37m\u001b[0m \u001b[1m3s\u001b[0m 4ms/step - categorical_accuracy: 0.9032 - loss: 0.2566 - val_categorical_accuracy: 0.8866 - val_loss: 0.3150\n",
      "Epoch 9/50\n",
      "\u001b[1m960/960\u001b[0m \u001b[32m━━━━━━━━━━━━━━━━━━━━\u001b[0m\u001b[37m\u001b[0m \u001b[1m4s\u001b[0m 4ms/step - categorical_accuracy: 0.9072 - loss: 0.2457 - val_categorical_accuracy: 0.8885 - val_loss: 0.3179\n",
      "Epoch 10/50\n",
      "\u001b[1m960/960\u001b[0m \u001b[32m━━━━━━━━━━━━━━━━━━━━\u001b[0m\u001b[37m\u001b[0m \u001b[1m5s\u001b[0m 4ms/step - categorical_accuracy: 0.9122 - loss: 0.2313 - val_categorical_accuracy: 0.8888 - val_loss: 0.3279\n",
      "Epoch 11/50\n",
      "\u001b[1m960/960\u001b[0m \u001b[32m━━━━━━━━━━━━━━━━━━━━\u001b[0m\u001b[37m\u001b[0m \u001b[1m5s\u001b[0m 4ms/step - categorical_accuracy: 0.9168 - loss: 0.2253 - val_categorical_accuracy: 0.8809 - val_loss: 0.3472\n",
      "Epoch 12/50\n",
      "\u001b[1m960/960\u001b[0m \u001b[32m━━━━━━━━━━━━━━━━━━━━\u001b[0m\u001b[37m\u001b[0m \u001b[1m5s\u001b[0m 4ms/step - categorical_accuracy: 0.9154 - loss: 0.2219 - val_categorical_accuracy: 0.8900 - val_loss: 0.3273\n",
      "Epoch 13/50\n",
      "\u001b[1m960/960\u001b[0m \u001b[32m━━━━━━━━━━━━━━━━━━━━\u001b[0m\u001b[37m\u001b[0m \u001b[1m5s\u001b[0m 4ms/step - categorical_accuracy: 0.9221 - loss: 0.2068 - val_categorical_accuracy: 0.8849 - val_loss: 0.3363\n",
      "Epoch 14/50\n",
      "\u001b[1m960/960\u001b[0m \u001b[32m━━━━━━━━━━━━━━━━━━━━\u001b[0m\u001b[37m\u001b[0m \u001b[1m5s\u001b[0m 4ms/step - categorical_accuracy: 0.9242 - loss: 0.2035 - val_categorical_accuracy: 0.8876 - val_loss: 0.3248\n",
      "Epoch 15/50\n",
      "\u001b[1m960/960\u001b[0m \u001b[32m━━━━━━━━━━━━━━━━━━━━\u001b[0m\u001b[37m\u001b[0m \u001b[1m3s\u001b[0m 4ms/step - categorical_accuracy: 0.9250 - loss: 0.1938 - val_categorical_accuracy: 0.8906 - val_loss: 0.3419\n",
      "Epoch 16/50\n",
      "\u001b[1m960/960\u001b[0m \u001b[32m━━━━━━━━━━━━━━━━━━━━\u001b[0m\u001b[37m\u001b[0m \u001b[1m6s\u001b[0m 4ms/step - categorical_accuracy: 0.9279 - loss: 0.1881 - val_categorical_accuracy: 0.8910 - val_loss: 0.3278\n",
      "Epoch 17/50\n",
      "\u001b[1m960/960\u001b[0m \u001b[32m━━━━━━━━━━━━━━━━━━━━\u001b[0m\u001b[37m\u001b[0m \u001b[1m3s\u001b[0m 3ms/step - categorical_accuracy: 0.9296 - loss: 0.1846 - val_categorical_accuracy: 0.8873 - val_loss: 0.3553\n",
      "Epoch 18/50\n",
      "\u001b[1m960/960\u001b[0m \u001b[32m━━━━━━━━━━━━━━━━━━━━\u001b[0m\u001b[37m\u001b[0m \u001b[1m6s\u001b[0m 4ms/step - categorical_accuracy: 0.9335 - loss: 0.1748 - val_categorical_accuracy: 0.8926 - val_loss: 0.3513\n",
      "Epoch 19/50\n",
      "\u001b[1m960/960\u001b[0m \u001b[32m━━━━━━━━━━━━━━━━━━━━\u001b[0m\u001b[37m\u001b[0m \u001b[1m5s\u001b[0m 4ms/step - categorical_accuracy: 0.9356 - loss: 0.1685 - val_categorical_accuracy: 0.8944 - val_loss: 0.3396\n",
      "Epoch 20/50\n",
      "\u001b[1m960/960\u001b[0m \u001b[32m━━━━━━━━━━━━━━━━━━━━\u001b[0m\u001b[37m\u001b[0m \u001b[1m5s\u001b[0m 4ms/step - categorical_accuracy: 0.9385 - loss: 0.1655 - val_categorical_accuracy: 0.8930 - val_loss: 0.3528\n",
      "Epoch 21/50\n",
      "\u001b[1m960/960\u001b[0m \u001b[32m━━━━━━━━━━━━━━━━━━━━\u001b[0m\u001b[37m\u001b[0m \u001b[1m4s\u001b[0m 4ms/step - categorical_accuracy: 0.9390 - loss: 0.1584 - val_categorical_accuracy: 0.8936 - val_loss: 0.3701\n",
      "Epoch 22/50\n",
      "\u001b[1m960/960\u001b[0m \u001b[32m━━━━━━━━━━━━━━━━━━━━\u001b[0m\u001b[37m\u001b[0m \u001b[1m4s\u001b[0m 4ms/step - categorical_accuracy: 0.9421 - loss: 0.1510 - val_categorical_accuracy: 0.8939 - val_loss: 0.3653\n",
      "Epoch 23/50\n",
      "\u001b[1m960/960\u001b[0m \u001b[32m━━━━━━━━━━━━━━━━━━━━\u001b[0m\u001b[37m\u001b[0m \u001b[1m5s\u001b[0m 4ms/step - categorical_accuracy: 0.9458 - loss: 0.1447 - val_categorical_accuracy: 0.8938 - val_loss: 0.3635\n",
      "Epoch 24/50\n",
      "\u001b[1m960/960\u001b[0m \u001b[32m━━━━━━━━━━━━━━━━━━━━\u001b[0m\u001b[37m\u001b[0m \u001b[1m5s\u001b[0m 3ms/step - categorical_accuracy: 0.9452 - loss: 0.1452 - val_categorical_accuracy: 0.8953 - val_loss: 0.3741\n",
      "Epoch 25/50\n",
      "\u001b[1m960/960\u001b[0m \u001b[32m━━━━━━━━━━━━━━━━━━━━\u001b[0m\u001b[37m\u001b[0m \u001b[1m4s\u001b[0m 4ms/step - categorical_accuracy: 0.9462 - loss: 0.1427 - val_categorical_accuracy: 0.8970 - val_loss: 0.3788\n",
      "Epoch 26/50\n",
      "\u001b[1m960/960\u001b[0m \u001b[32m━━━━━━━━━━━━━━━━━━━━\u001b[0m\u001b[37m\u001b[0m \u001b[1m5s\u001b[0m 4ms/step - categorical_accuracy: 0.9472 - loss: 0.1358 - val_categorical_accuracy: 0.8929 - val_loss: 0.3811\n",
      "Epoch 27/50\n",
      "\u001b[1m960/960\u001b[0m \u001b[32m━━━━━━━━━━━━━━━━━━━━\u001b[0m\u001b[37m\u001b[0m \u001b[1m5s\u001b[0m 3ms/step - categorical_accuracy: 0.9500 - loss: 0.1313 - val_categorical_accuracy: 0.8902 - val_loss: 0.4130\n",
      "Epoch 28/50\n",
      "\u001b[1m960/960\u001b[0m \u001b[32m━━━━━━━━━━━━━━━━━━━━\u001b[0m\u001b[37m\u001b[0m \u001b[1m5s\u001b[0m 3ms/step - categorical_accuracy: 0.9507 - loss: 0.1287 - val_categorical_accuracy: 0.8940 - val_loss: 0.3971\n",
      "Epoch 29/50\n",
      "\u001b[1m960/960\u001b[0m \u001b[32m━━━━━━━━━━━━━━━━━━━━\u001b[0m\u001b[37m\u001b[0m \u001b[1m5s\u001b[0m 4ms/step - categorical_accuracy: 0.9533 - loss: 0.1240 - val_categorical_accuracy: 0.8863 - val_loss: 0.4329\n",
      "Epoch 30/50\n",
      "\u001b[1m960/960\u001b[0m \u001b[32m━━━━━━━━━━━━━━━━━━━━\u001b[0m\u001b[37m\u001b[0m \u001b[1m5s\u001b[0m 4ms/step - categorical_accuracy: 0.9533 - loss: 0.1216 - val_categorical_accuracy: 0.8919 - val_loss: 0.4103\n",
      "Epoch 31/50\n",
      "\u001b[1m960/960\u001b[0m \u001b[32m━━━━━━━━━━━━━━━━━━━━\u001b[0m\u001b[37m\u001b[0m \u001b[1m5s\u001b[0m 4ms/step - categorical_accuracy: 0.9557 - loss: 0.1193 - val_categorical_accuracy: 0.8913 - val_loss: 0.4228\n",
      "Epoch 32/50\n",
      "\u001b[1m960/960\u001b[0m \u001b[32m━━━━━━━━━━━━━━━━━━━━\u001b[0m\u001b[37m\u001b[0m \u001b[1m4s\u001b[0m 4ms/step - categorical_accuracy: 0.9551 - loss: 0.1163 - val_categorical_accuracy: 0.8928 - val_loss: 0.4418\n",
      "Epoch 33/50\n",
      "\u001b[1m960/960\u001b[0m \u001b[32m━━━━━━━━━━━━━━━━━━━━\u001b[0m\u001b[37m\u001b[0m \u001b[1m4s\u001b[0m 4ms/step - categorical_accuracy: 0.9570 - loss: 0.1087 - val_categorical_accuracy: 0.8891 - val_loss: 0.4480\n",
      "Epoch 34/50\n",
      "\u001b[1m960/960\u001b[0m \u001b[32m━━━━━━━━━━━━━━━━━━━━\u001b[0m\u001b[37m\u001b[0m \u001b[1m5s\u001b[0m 4ms/step - categorical_accuracy: 0.9593 - loss: 0.1069 - val_categorical_accuracy: 0.8892 - val_loss: 0.4347\n",
      "Epoch 35/50\n",
      "\u001b[1m960/960\u001b[0m \u001b[32m━━━━━━━━━━━━━━━━━━━━\u001b[0m\u001b[37m\u001b[0m \u001b[1m5s\u001b[0m 4ms/step - categorical_accuracy: 0.9600 - loss: 0.1048 - val_categorical_accuracy: 0.8913 - val_loss: 0.4362\n",
      "Epoch 36/50\n",
      "\u001b[1m960/960\u001b[0m \u001b[32m━━━━━━━━━━━━━━━━━━━━\u001b[0m\u001b[37m\u001b[0m \u001b[1m5s\u001b[0m 4ms/step - categorical_accuracy: 0.9594 - loss: 0.1056 - val_categorical_accuracy: 0.8881 - val_loss: 0.4389\n",
      "Epoch 37/50\n",
      "\u001b[1m960/960\u001b[0m \u001b[32m━━━━━━━━━━━━━━━━━━━━\u001b[0m\u001b[37m\u001b[0m \u001b[1m3s\u001b[0m 3ms/step - categorical_accuracy: 0.9629 - loss: 0.1015 - val_categorical_accuracy: 0.8942 - val_loss: 0.4681\n",
      "Epoch 38/50\n",
      "\u001b[1m960/960\u001b[0m \u001b[32m━━━━━━━━━━━━━━━━━━━━\u001b[0m\u001b[37m\u001b[0m \u001b[1m5s\u001b[0m 3ms/step - categorical_accuracy: 0.9616 - loss: 0.0995 - val_categorical_accuracy: 0.8909 - val_loss: 0.4873\n",
      "Epoch 39/50\n",
      "\u001b[1m960/960\u001b[0m \u001b[32m━━━━━━━━━━━━━━━━━━━━\u001b[0m\u001b[37m\u001b[0m \u001b[1m3s\u001b[0m 3ms/step - categorical_accuracy: 0.9629 - loss: 0.1006 - val_categorical_accuracy: 0.8940 - val_loss: 0.4729\n",
      "Epoch 40/50\n",
      "\u001b[1m960/960\u001b[0m \u001b[32m━━━━━━━━━━━━━━━━━━━━\u001b[0m\u001b[37m\u001b[0m \u001b[1m3s\u001b[0m 3ms/step - categorical_accuracy: 0.9654 - loss: 0.0913 - val_categorical_accuracy: 0.8912 - val_loss: 0.4603\n",
      "Epoch 41/50\n",
      "\u001b[1m960/960\u001b[0m \u001b[32m━━━━━━━━━━━━━━━━━━━━\u001b[0m\u001b[37m\u001b[0m \u001b[1m3s\u001b[0m 3ms/step - categorical_accuracy: 0.9657 - loss: 0.0934 - val_categorical_accuracy: 0.8942 - val_loss: 0.4813\n",
      "Epoch 42/50\n",
      "\u001b[1m960/960\u001b[0m \u001b[32m━━━━━━━━━━━━━━━━━━━━\u001b[0m\u001b[37m\u001b[0m \u001b[1m6s\u001b[0m 6ms/step - categorical_accuracy: 0.9689 - loss: 0.0838 - val_categorical_accuracy: 0.8907 - val_loss: 0.5199\n",
      "Epoch 43/50\n",
      "\u001b[1m960/960\u001b[0m \u001b[32m━━━━━━━━━━━━━━━━━━━━\u001b[0m\u001b[37m\u001b[0m \u001b[1m4s\u001b[0m 5ms/step - categorical_accuracy: 0.9681 - loss: 0.0812 - val_categorical_accuracy: 0.8937 - val_loss: 0.5359\n",
      "Epoch 44/50\n",
      "\u001b[1m960/960\u001b[0m \u001b[32m━━━━━━━━━━━━━━━━━━━━\u001b[0m\u001b[37m\u001b[0m \u001b[1m10s\u001b[0m 9ms/step - categorical_accuracy: 0.9650 - loss: 0.0914 - val_categorical_accuracy: 0.8896 - val_loss: 0.5152\n",
      "Epoch 45/50\n",
      "\u001b[1m960/960\u001b[0m \u001b[32m━━━━━━━━━━━━━━━━━━━━\u001b[0m\u001b[37m\u001b[0m \u001b[1m4s\u001b[0m 4ms/step - categorical_accuracy: 0.9674 - loss: 0.0852 - val_categorical_accuracy: 0.8867 - val_loss: 0.5233\n",
      "Epoch 46/50\n",
      "\u001b[1m960/960\u001b[0m \u001b[32m━━━━━━━━━━━━━━━━━━━━\u001b[0m\u001b[37m\u001b[0m \u001b[1m4s\u001b[0m 4ms/step - categorical_accuracy: 0.9688 - loss: 0.0817 - val_categorical_accuracy: 0.8903 - val_loss: 0.5567\n",
      "Epoch 47/50\n",
      "\u001b[1m960/960\u001b[0m \u001b[32m━━━━━━━━━━━━━━━━━━━━\u001b[0m\u001b[37m\u001b[0m \u001b[1m5s\u001b[0m 6ms/step - categorical_accuracy: 0.9696 - loss: 0.0800 - val_categorical_accuracy: 0.8832 - val_loss: 0.5692\n",
      "Epoch 48/50\n",
      "\u001b[1m960/960\u001b[0m \u001b[32m━━━━━━━━━━━━━━━━━━━━\u001b[0m\u001b[37m\u001b[0m \u001b[1m4s\u001b[0m 4ms/step - categorical_accuracy: 0.9702 - loss: 0.0791 - val_categorical_accuracy: 0.8900 - val_loss: 0.5736\n",
      "Epoch 49/50\n",
      "\u001b[1m960/960\u001b[0m \u001b[32m━━━━━━━━━━━━━━━━━━━━\u001b[0m\u001b[37m\u001b[0m \u001b[1m5s\u001b[0m 4ms/step - categorical_accuracy: 0.9733 - loss: 0.0717 - val_categorical_accuracy: 0.8869 - val_loss: 0.5670\n",
      "Epoch 50/50\n",
      "\u001b[1m960/960\u001b[0m \u001b[32m━━━━━━━━━━━━━━━━━━━━\u001b[0m\u001b[37m\u001b[0m \u001b[1m6s\u001b[0m 5ms/step - categorical_accuracy: 0.9694 - loss: 0.0800 - val_categorical_accuracy: 0.8947 - val_loss: 0.5614\n"
     ]
    },
    {
     "data": {
      "text/plain": [
       "<keras.src.callbacks.history.History at 0x7fef97d1d890>"
      ]
     },
     "execution_count": 18,
     "metadata": {},
     "output_type": "execute_result"
    }
   ],
   "source": [
    "loss = tf.losses.CategoricalCrossentropy()\n",
    "optimizer = tf.optimizers.Adam()\n",
    "metric = tf.metrics.CategoricalAccuracy()\n",
    "\n",
    "model.compile(loss=loss, optimizer=optimizer, metrics=[metric])\n",
    "\n",
    "model.fit(x_train, y_train, validation_split=0.2, epochs=50, batch_size=50)"
   ]
  },
  {
   "cell_type": "markdown",
   "id": "c97fb675-ad1b-4bc1-8d52-348c12e28977",
   "metadata": {},
   "source": [
    "### Evaluation"
   ]
  },
  {
   "cell_type": "markdown",
   "id": "7abe6a03-6630-4af3-bf8d-8d42a5b97640",
   "metadata": {},
   "source": [
    "#### Train"
   ]
  },
  {
   "cell_type": "code",
   "execution_count": 19,
   "id": "5bc92c54-6813-4b71-97b5-132e3fd1386a",
   "metadata": {},
   "outputs": [
    {
     "name": "stdout",
     "output_type": "stream",
     "text": [
      "\u001b[1m1875/1875\u001b[0m \u001b[32m━━━━━━━━━━━━━━━━━━━━\u001b[0m\u001b[37m\u001b[0m \u001b[1m3s\u001b[0m 2ms/step - categorical_accuracy: 0.9755 - loss: 0.0690\n"
     ]
    },
    {
     "data": {
      "text/plain": [
       "[0.15920202434062958, 0.9612333178520203]"
      ]
     },
     "execution_count": 19,
     "metadata": {},
     "output_type": "execute_result"
    }
   ],
   "source": [
    "model.evaluate(x_train, y_train)"
   ]
  },
  {
   "cell_type": "markdown",
   "id": "43d886f6-efc1-4841-94ef-e242ccf268e2",
   "metadata": {},
   "source": [
    "### Test"
   ]
  },
  {
   "cell_type": "code",
   "execution_count": 20,
   "id": "25116e26-e490-4fcd-b7be-9ff3728b300c",
   "metadata": {},
   "outputs": [
    {
     "name": "stdout",
     "output_type": "stream",
     "text": [
      "\u001b[1m313/313\u001b[0m \u001b[32m━━━━━━━━━━━━━━━━━━━━\u001b[0m\u001b[37m\u001b[0m \u001b[1m0s\u001b[0m 1ms/step - categorical_accuracy: 0.8876 - loss: 0.6223\n"
     ]
    },
    {
     "data": {
      "text/plain": [
       "[0.6238036155700684, 0.8878999948501587]"
      ]
     },
     "execution_count": 20,
     "metadata": {},
     "output_type": "execute_result"
    }
   ],
   "source": [
    "model.evaluate(x_test, y_test)"
   ]
  },
  {
   "cell_type": "markdown",
   "id": "ae8dca16-9b10-4869-ac4f-48d1261e2657",
   "metadata": {},
   "source": [
    "model is overfitted!"
   ]
  },
  {
   "cell_type": "markdown",
   "id": "c8e2e57c-a275-4ae2-890e-2ff81598d98a",
   "metadata": {},
   "source": [
    "### Prediction Example"
   ]
  },
  {
   "cell_type": "code",
   "execution_count": 21,
   "id": "236de779-01ea-4629-898e-2451b30036fc",
   "metadata": {},
   "outputs": [
    {
     "name": "stdout",
     "output_type": "stream",
     "text": [
      "\u001b[1m313/313\u001b[0m \u001b[32m━━━━━━━━━━━━━━━━━━━━\u001b[0m\u001b[37m\u001b[0m \u001b[1m1s\u001b[0m 2ms/step\n",
      "True:  Sandal\n",
      "Predict:  Sandal\n"
     ]
    },
    {
     "data": {
      "image/png": "[encoded data removed]",
      "text/plain": [
       "<Figure size 640x480 with 1 Axes>"
      ]
     },
     "metadata": {},
     "output_type": "display_data"
    }
   ],
   "source": [
    "y_predict = model.predict(x_test)\n",
    "\n",
    "index = 111\n",
    "plt.imshow(x_test[index], cmap=\"gray\")\n",
    "print(\"True: \", class_name[y_test[index].argmax()])\n",
    "print(\"Predict: \", class_name[y_predict[index].argmax()])"
   ]
  },
  {
   "cell_type": "markdown",
   "id": "f20a2ebd-b37b-4d58-98a7-12c73af0414c",
   "metadata": {},
   "source": [
    "# Convolutioanal Neural Network"
   ]
  },
  {
   "cell_type": "markdown",
   "id": "c9e59376-42f4-47fd-843f-bbdb5a57d537",
   "metadata": {},
   "source": [
    "## Data "
   ]
  },
  {
   "cell_type": "markdown",
   "id": "a96bd029-faf1-43d1-8c32-7d9064d63db7",
   "metadata": {},
   "source": [
    "Same as previous section:"
   ]
  },
  {
   "cell_type": "markdown",
   "id": "fb98396e-7485-47e4-9020-1e07b3a95c28",
   "metadata": {},
   "source": [
    "### Train Test Split"
   ]
  },
  {
   "cell_type": "code",
   "execution_count": 22,
   "id": "2fd5f2d6-68c2-4bef-893e-151b77420fe6",
   "metadata": {},
   "outputs": [
    {
     "name": "stdout",
     "output_type": "stream",
     "text": [
      "x_train shape: (60000, 28, 28)\n",
      "y_train shape: (60000,)\n",
      "x_test shape: (10000, 28, 28)\n",
      "y_test shape: (10000,)\n"
     ]
    }
   ],
   "source": [
    "x_train = load_images_from_gzip('./fashion_mnist_dataset/train-images-idx3-ubyte.gz')\n",
    "y_train = load_labels_from_gzip('./fashion_mnist_dataset/train-labels-idx1-ubyte.gz')\n",
    "x_test = load_images_from_gzip('./fashion_mnist_dataset/t10k-images-idx3-ubyte.gz')\n",
    "y_test = load_labels_from_gzip('./fashion_mnist_dataset/t10k-labels-idx1-ubyte.gz')\n",
    "\n",
    "print(f\"x_train shape: {x_train.shape}\")\n",
    "print(f\"y_train shape: {y_train.shape}\")\n",
    "print(f\"x_test shape: {x_test.shape}\")\n",
    "print(f\"y_test shape: {y_test.shape}\")"
   ]
  },
  {
   "cell_type": "markdown",
   "id": "9e5d12c6-efa7-4717-847d-cafce649b66e",
   "metadata": {},
   "source": [
    "### Normalization"
   ]
  },
  {
   "cell_type": "code",
   "execution_count": 23,
   "id": "8daeedc7-727e-4819-a766-72e4e12b6d4c",
   "metadata": {},
   "outputs": [],
   "source": [
    "x_train = x_train/x_train.max()\n",
    "x_test = x_test/x_test.max()"
   ]
  },
  {
   "cell_type": "markdown",
   "id": "2e32585f-4cc8-41de-8f1d-ca091104ca0e",
   "metadata": {},
   "source": [
    "### One-hot"
   ]
  },
  {
   "cell_type": "code",
   "execution_count": 24,
   "id": "adfb6963-0689-496a-8cc8-25e7c93d944f",
   "metadata": {},
   "outputs": [
    {
     "name": "stdout",
     "output_type": "stream",
     "text": [
      "y_train shape:  (60000, 10)\n",
      "y_test shape:  (10000, 10)\n"
     ]
    }
   ],
   "source": [
    "from keras.utils import to_categorical\n",
    "\n",
    "y_train = to_categorical(y_train, num_classes=10)\n",
    "y_test = to_categorical(y_test, num_classes=10)\n",
    "\n",
    "print(\"y_train shape: \", y_train.shape)\n",
    "print(\"y_test shape: \", y_test.shape)"
   ]
  },
  {
   "cell_type": "markdown",
   "id": "fe6da912-ff9c-41b9-b012-86de1a832fcd",
   "metadata": {},
   "source": [
    "## Model"
   ]
  },
  {
   "cell_type": "code",
   "execution_count": 25,
   "id": "9789bdf4-eb5f-414d-8c5d-b14775119865",
   "metadata": {},
   "outputs": [
    {
     "data": {
      "text/html": [
       "<pre style=\"white-space:pre;overflow-x:auto;line-height:normal;font-family:Menlo,'DejaVu Sans Mono',consolas,'Courier New',monospace\"><span style=\"font-weight: bold\">Model: \"sequential_2\"</span>\n",
       "</pre>\n"
      ],
      "text/plain": [
       "\u001b[1mModel: \"sequential_2\"\u001b[0m\n"
      ]
     },
     "metadata": {},
     "output_type": "display_data"
    },
    {
     "data": {
      "text/html": [
       "<pre style=\"white-space:pre;overflow-x:auto;line-height:normal;font-family:Menlo,'DejaVu Sans Mono',consolas,'Courier New',monospace\">┏━━━━━━━━━━━━━━━━━━━━━━━━━━━━━━━━━┳━━━━━━━━━━━━━━━━━━━━━━━━┳━━━━━━━━━━━━━━━┓\n",
       "┃<span style=\"font-weight: bold\"> Layer (type)                    </span>┃<span style=\"font-weight: bold\"> Output Shape           </span>┃<span style=\"font-weight: bold\">       Param # </span>┃\n",
       "┡━━━━━━━━━━━━━━━━━━━━━━━━━━━━━━━━━╇━━━━━━━━━━━━━━━━━━━━━━━━╇━━━━━━━━━━━━━━━┩\n",
       "│ conv2d (<span style=\"color: #0087ff; text-decoration-color: #0087ff\">Conv2D</span>)                 │ (<span style=\"color: #00d7ff; text-decoration-color: #00d7ff\">None</span>, <span style=\"color: #00af00; text-decoration-color: #00af00\">28</span>, <span style=\"color: #00af00; text-decoration-color: #00af00\">28</span>, <span style=\"color: #00af00; text-decoration-color: #00af00\">16</span>)     │           <span style=\"color: #00af00; text-decoration-color: #00af00\">160</span> │\n",
       "├─────────────────────────────────┼────────────────────────┼───────────────┤\n",
       "│ max_pooling2d (<span style=\"color: #0087ff; text-decoration-color: #0087ff\">MaxPooling2D</span>)    │ (<span style=\"color: #00d7ff; text-decoration-color: #00d7ff\">None</span>, <span style=\"color: #00af00; text-decoration-color: #00af00\">14</span>, <span style=\"color: #00af00; text-decoration-color: #00af00\">14</span>, <span style=\"color: #00af00; text-decoration-color: #00af00\">16</span>)     │             <span style=\"color: #00af00; text-decoration-color: #00af00\">0</span> │\n",
       "├─────────────────────────────────┼────────────────────────┼───────────────┤\n",
       "│ conv2d_1 (<span style=\"color: #0087ff; text-decoration-color: #0087ff\">Conv2D</span>)               │ (<span style=\"color: #00d7ff; text-decoration-color: #00d7ff\">None</span>, <span style=\"color: #00af00; text-decoration-color: #00af00\">14</span>, <span style=\"color: #00af00; text-decoration-color: #00af00\">14</span>, <span style=\"color: #00af00; text-decoration-color: #00af00\">32</span>)     │         <span style=\"color: #00af00; text-decoration-color: #00af00\">4,640</span> │\n",
       "├─────────────────────────────────┼────────────────────────┼───────────────┤\n",
       "│ max_pooling2d_1 (<span style=\"color: #0087ff; text-decoration-color: #0087ff\">MaxPooling2D</span>)  │ (<span style=\"color: #00d7ff; text-decoration-color: #00d7ff\">None</span>, <span style=\"color: #00af00; text-decoration-color: #00af00\">7</span>, <span style=\"color: #00af00; text-decoration-color: #00af00\">7</span>, <span style=\"color: #00af00; text-decoration-color: #00af00\">32</span>)       │             <span style=\"color: #00af00; text-decoration-color: #00af00\">0</span> │\n",
       "├─────────────────────────────────┼────────────────────────┼───────────────┤\n",
       "│ conv2d_2 (<span style=\"color: #0087ff; text-decoration-color: #0087ff\">Conv2D</span>)               │ (<span style=\"color: #00d7ff; text-decoration-color: #00d7ff\">None</span>, <span style=\"color: #00af00; text-decoration-color: #00af00\">7</span>, <span style=\"color: #00af00; text-decoration-color: #00af00\">7</span>, <span style=\"color: #00af00; text-decoration-color: #00af00\">64</span>)       │        <span style=\"color: #00af00; text-decoration-color: #00af00\">18,496</span> │\n",
       "├─────────────────────────────────┼────────────────────────┼───────────────┤\n",
       "│ flatten_1 (<span style=\"color: #0087ff; text-decoration-color: #0087ff\">Flatten</span>)             │ (<span style=\"color: #00d7ff; text-decoration-color: #00d7ff\">None</span>, <span style=\"color: #00af00; text-decoration-color: #00af00\">3136</span>)           │             <span style=\"color: #00af00; text-decoration-color: #00af00\">0</span> │\n",
       "├─────────────────────────────────┼────────────────────────┼───────────────┤\n",
       "│ dense_6 (<span style=\"color: #0087ff; text-decoration-color: #0087ff\">Dense</span>)                 │ (<span style=\"color: #00d7ff; text-decoration-color: #00d7ff\">None</span>, <span style=\"color: #00af00; text-decoration-color: #00af00\">128</span>)            │       <span style=\"color: #00af00; text-decoration-color: #00af00\">401,536</span> │\n",
       "├─────────────────────────────────┼────────────────────────┼───────────────┤\n",
       "│ dense_7 (<span style=\"color: #0087ff; text-decoration-color: #0087ff\">Dense</span>)                 │ (<span style=\"color: #00d7ff; text-decoration-color: #00d7ff\">None</span>, <span style=\"color: #00af00; text-decoration-color: #00af00\">10</span>)             │         <span style=\"color: #00af00; text-decoration-color: #00af00\">1,290</span> │\n",
       "└─────────────────────────────────┴────────────────────────┴───────────────┘\n",
       "</pre>\n"
      ],
      "text/plain": [
       "┏━━━━━━━━━━━━━━━━━━━━━━━━━━━━━━━━━┳━━━━━━━━━━━━━━━━━━━━━━━━┳━━━━━━━━━━━━━━━┓\n",
       "┃\u001b[1m \u001b[0m\u001b[1mLayer (type)                   \u001b[0m\u001b[1m \u001b[0m┃\u001b[1m \u001b[0m\u001b[1mOutput Shape          \u001b[0m\u001b[1m \u001b[0m┃\u001b[1m \u001b[0m\u001b[1m      Param #\u001b[0m\u001b[1m \u001b[0m┃\n",
       "┡━━━━━━━━━━━━━━━━━━━━━━━━━━━━━━━━━╇━━━━━━━━━━━━━━━━━━━━━━━━╇━━━━━━━━━━━━━━━┩\n",
       "│ conv2d (\u001b[38;5;33mConv2D\u001b[0m)                 │ (\u001b[38;5;45mNone\u001b[0m, \u001b[38;5;34m28\u001b[0m, \u001b[38;5;34m28\u001b[0m, \u001b[38;5;34m16\u001b[0m)     │           \u001b[38;5;34m160\u001b[0m │\n",
       "├─────────────────────────────────┼────────────────────────┼───────────────┤\n",
       "│ max_pooling2d (\u001b[38;5;33mMaxPooling2D\u001b[0m)    │ (\u001b[38;5;45mNone\u001b[0m, \u001b[38;5;34m14\u001b[0m, \u001b[38;5;34m14\u001b[0m, \u001b[38;5;34m16\u001b[0m)     │             \u001b[38;5;34m0\u001b[0m │\n",
       "├─────────────────────────────────┼────────────────────────┼───────────────┤\n",
       "│ conv2d_1 (\u001b[38;5;33mConv2D\u001b[0m)               │ (\u001b[38;5;45mNone\u001b[0m, \u001b[38;5;34m14\u001b[0m, \u001b[38;5;34m14\u001b[0m, \u001b[38;5;34m32\u001b[0m)     │         \u001b[38;5;34m4,640\u001b[0m │\n",
       "├─────────────────────────────────┼────────────────────────┼───────────────┤\n",
       "│ max_pooling2d_1 (\u001b[38;5;33mMaxPooling2D\u001b[0m)  │ (\u001b[38;5;45mNone\u001b[0m, \u001b[38;5;34m7\u001b[0m, \u001b[38;5;34m7\u001b[0m, \u001b[38;5;34m32\u001b[0m)       │             \u001b[38;5;34m0\u001b[0m │\n",
       "├─────────────────────────────────┼────────────────────────┼───────────────┤\n",
       "│ conv2d_2 (\u001b[38;5;33mConv2D\u001b[0m)               │ (\u001b[38;5;45mNone\u001b[0m, \u001b[38;5;34m7\u001b[0m, \u001b[38;5;34m7\u001b[0m, \u001b[38;5;34m64\u001b[0m)       │        \u001b[38;5;34m18,496\u001b[0m │\n",
       "├─────────────────────────────────┼────────────────────────┼───────────────┤\n",
       "│ flatten_1 (\u001b[38;5;33mFlatten\u001b[0m)             │ (\u001b[38;5;45mNone\u001b[0m, \u001b[38;5;34m3136\u001b[0m)           │             \u001b[38;5;34m0\u001b[0m │\n",
       "├─────────────────────────────────┼────────────────────────┼───────────────┤\n",
       "│ dense_6 (\u001b[38;5;33mDense\u001b[0m)                 │ (\u001b[38;5;45mNone\u001b[0m, \u001b[38;5;34m128\u001b[0m)            │       \u001b[38;5;34m401,536\u001b[0m │\n",
       "├─────────────────────────────────┼────────────────────────┼───────────────┤\n",
       "│ dense_7 (\u001b[38;5;33mDense\u001b[0m)                 │ (\u001b[38;5;45mNone\u001b[0m, \u001b[38;5;34m10\u001b[0m)             │         \u001b[38;5;34m1,290\u001b[0m │\n",
       "└─────────────────────────────────┴────────────────────────┴───────────────┘\n"
      ]
     },
     "metadata": {},
     "output_type": "display_data"
    },
    {
     "data": {
      "text/html": [
       "<pre style=\"white-space:pre;overflow-x:auto;line-height:normal;font-family:Menlo,'DejaVu Sans Mono',consolas,'Courier New',monospace\"><span style=\"font-weight: bold\"> Total params: </span><span style=\"color: #00af00; text-decoration-color: #00af00\">426,122</span> (1.63 MB)\n",
       "</pre>\n"
      ],
      "text/plain": [
       "\u001b[1m Total params: \u001b[0m\u001b[38;5;34m426,122\u001b[0m (1.63 MB)\n"
      ]
     },
     "metadata": {},
     "output_type": "display_data"
    },
    {
     "data": {
      "text/html": [
       "<pre style=\"white-space:pre;overflow-x:auto;line-height:normal;font-family:Menlo,'DejaVu Sans Mono',consolas,'Courier New',monospace\"><span style=\"font-weight: bold\"> Trainable params: </span><span style=\"color: #00af00; text-decoration-color: #00af00\">426,122</span> (1.63 MB)\n",
       "</pre>\n"
      ],
      "text/plain": [
       "\u001b[1m Trainable params: \u001b[0m\u001b[38;5;34m426,122\u001b[0m (1.63 MB)\n"
      ]
     },
     "metadata": {},
     "output_type": "display_data"
    },
    {
     "data": {
      "text/html": [
       "<pre style=\"white-space:pre;overflow-x:auto;line-height:normal;font-family:Menlo,'DejaVu Sans Mono',consolas,'Courier New',monospace\"><span style=\"font-weight: bold\"> Non-trainable params: </span><span style=\"color: #00af00; text-decoration-color: #00af00\">0</span> (0.00 B)\n",
       "</pre>\n"
      ],
      "text/plain": [
       "\u001b[1m Non-trainable params: \u001b[0m\u001b[38;5;34m0\u001b[0m (0.00 B)\n"
      ]
     },
     "metadata": {},
     "output_type": "display_data"
    }
   ],
   "source": [
    "from keras.layers import Conv2D, MaxPool2D\n",
    "\n",
    "model = Sequential()\n",
    "\n",
    "# input layer:\n",
    "model.add(Input((28, 28, 1)))\n",
    "# conv 1:\n",
    "model.add(Conv2D(filters=16, kernel_size=(3, 3), strides=1, activation=\"relu\", padding=\"same\"))\n",
    "# maxpool:\n",
    "model.add(MaxPool2D())\n",
    "# conv 2:\n",
    "model.add(Conv2D(filters=32, kernel_size=(3, 3), strides=1, activation=\"relu\", padding=\"same\"))\n",
    "# maxpool:\n",
    "model.add(MaxPool2D())\n",
    "# conv 1:\n",
    "model.add(Conv2D(filters=64, kernel_size=(3, 3), strides=1, activation=\"relu\", padding=\"same\"))\n",
    "# faltten:\n",
    "model.add(Flatten())\n",
    "# dense:\n",
    "model.add(Dense(units=128, activation=\"relu\"))\n",
    "# output layer:\n",
    "model.add(Dense(units=10, activation=\"softmax\"))\n",
    "\n",
    "model.summary()"
   ]
  },
  {
   "cell_type": "markdown",
   "id": "a10313f7-c447-4d71-91b8-54988c97c88e",
   "metadata": {},
   "source": [
    "### Compilation"
   ]
  },
  {
   "cell_type": "code",
   "execution_count": 26,
   "id": "7836a72f-8942-4f45-8d8d-e4411a2cadc2",
   "metadata": {},
   "outputs": [
    {
     "name": "stdout",
     "output_type": "stream",
     "text": [
      "Epoch 1/50\n",
      "\u001b[1m960/960\u001b[0m \u001b[32m━━━━━━━━━━━━━━━━━━━━\u001b[0m\u001b[37m\u001b[0m \u001b[1m29s\u001b[0m 28ms/step - categorical_accuracy: 0.7646 - loss: 0.6564 - val_categorical_accuracy: 0.8810 - val_loss: 0.3325\n",
      "Epoch 2/50\n",
      "\u001b[1m960/960\u001b[0m \u001b[32m━━━━━━━━━━━━━━━━━━━━\u001b[0m\u001b[37m\u001b[0m \u001b[1m26s\u001b[0m 27ms/step - categorical_accuracy: 0.8909 - loss: 0.3084 - val_categorical_accuracy: 0.9037 - val_loss: 0.2677\n",
      "Epoch 3/50\n",
      "\u001b[1m960/960\u001b[0m \u001b[32m━━━━━━━━━━━━━━━━━━━━\u001b[0m\u001b[37m\u001b[0m \u001b[1m42s\u001b[0m 28ms/step - categorical_accuracy: 0.9074 - loss: 0.2512 - val_categorical_accuracy: 0.9143 - val_loss: 0.2405\n",
      "Epoch 4/50\n",
      "\u001b[1m960/960\u001b[0m \u001b[32m━━━━━━━━━━━━━━━━━━━━\u001b[0m\u001b[37m\u001b[0m \u001b[1m40s\u001b[0m 42ms/step - categorical_accuracy: 0.9216 - loss: 0.2153 - val_categorical_accuracy: 0.9096 - val_loss: 0.2427\n",
      "Epoch 5/50\n",
      "\u001b[1m960/960\u001b[0m \u001b[32m━━━━━━━━━━━━━━━━━━━━\u001b[0m\u001b[37m\u001b[0m \u001b[1m28s\u001b[0m 28ms/step - categorical_accuracy: 0.9328 - loss: 0.1840 - val_categorical_accuracy: 0.9169 - val_loss: 0.2250\n",
      "Epoch 6/50\n",
      "\u001b[1m960/960\u001b[0m \u001b[32m━━━━━━━━━━━━━━━━━━━━\u001b[0m\u001b[37m\u001b[0m \u001b[1m28s\u001b[0m 29ms/step - categorical_accuracy: 0.9421 - loss: 0.1566 - val_categorical_accuracy: 0.9131 - val_loss: 0.2404\n",
      "Epoch 7/50\n",
      "\u001b[1m960/960\u001b[0m \u001b[32m━━━━━━━━━━━━━━━━━━━━\u001b[0m\u001b[37m\u001b[0m \u001b[1m28s\u001b[0m 29ms/step - categorical_accuracy: 0.9486 - loss: 0.1406 - val_categorical_accuracy: 0.9174 - val_loss: 0.2392\n",
      "Epoch 8/50\n",
      "\u001b[1m960/960\u001b[0m \u001b[32m━━━━━━━━━━━━━━━━━━━━\u001b[0m\u001b[37m\u001b[0m \u001b[1m38s\u001b[0m 26ms/step - categorical_accuracy: 0.9547 - loss: 0.1213 - val_categorical_accuracy: 0.9179 - val_loss: 0.2313\n",
      "Epoch 9/50\n",
      "\u001b[1m960/960\u001b[0m \u001b[32m━━━━━━━━━━━━━━━━━━━━\u001b[0m\u001b[37m\u001b[0m \u001b[1m42s\u001b[0m 27ms/step - categorical_accuracy: 0.9624 - loss: 0.1029 - val_categorical_accuracy: 0.9210 - val_loss: 0.2317\n",
      "Epoch 10/50\n",
      "\u001b[1m960/960\u001b[0m \u001b[32m━━━━━━━━━━━━━━━━━━━━\u001b[0m\u001b[37m\u001b[0m \u001b[1m40s\u001b[0m 26ms/step - categorical_accuracy: 0.9690 - loss: 0.0853 - val_categorical_accuracy: 0.9201 - val_loss: 0.2507\n",
      "Epoch 11/50\n",
      "\u001b[1m960/960\u001b[0m \u001b[32m━━━━━━━━━━━━━━━━━━━━\u001b[0m\u001b[37m\u001b[0m \u001b[1m26s\u001b[0m 27ms/step - categorical_accuracy: 0.9738 - loss: 0.0706 - val_categorical_accuracy: 0.9098 - val_loss: 0.3343\n",
      "Epoch 12/50\n",
      "\u001b[1m960/960\u001b[0m \u001b[32m━━━━━━━━━━━━━━━━━━━━\u001b[0m\u001b[37m\u001b[0m \u001b[1m40s\u001b[0m 26ms/step - categorical_accuracy: 0.9778 - loss: 0.0601 - val_categorical_accuracy: 0.9179 - val_loss: 0.2921\n",
      "Epoch 13/50\n",
      "\u001b[1m960/960\u001b[0m \u001b[32m━━━━━━━━━━━━━━━━━━━━\u001b[0m\u001b[37m\u001b[0m \u001b[1m27s\u001b[0m 28ms/step - categorical_accuracy: 0.9820 - loss: 0.0492 - val_categorical_accuracy: 0.9218 - val_loss: 0.3308\n",
      "Epoch 14/50\n",
      "\u001b[1m960/960\u001b[0m \u001b[32m━━━━━━━━━━━━━━━━━━━━\u001b[0m\u001b[37m\u001b[0m \u001b[1m40s\u001b[0m 27ms/step - categorical_accuracy: 0.9849 - loss: 0.0426 - val_categorical_accuracy: 0.9160 - val_loss: 0.3506\n",
      "Epoch 15/50\n",
      "\u001b[1m960/960\u001b[0m \u001b[32m━━━━━━━━━━━━━━━━━━━━\u001b[0m\u001b[37m\u001b[0m \u001b[1m41s\u001b[0m 26ms/step - categorical_accuracy: 0.9860 - loss: 0.0374 - val_categorical_accuracy: 0.9187 - val_loss: 0.3415\n",
      "Epoch 16/50\n",
      "\u001b[1m960/960\u001b[0m \u001b[32m━━━━━━━━━━━━━━━━━━━━\u001b[0m\u001b[37m\u001b[0m \u001b[1m26s\u001b[0m 27ms/step - categorical_accuracy: 0.9880 - loss: 0.0334 - val_categorical_accuracy: 0.9187 - val_loss: 0.3958\n",
      "Epoch 17/50\n",
      "\u001b[1m960/960\u001b[0m \u001b[32m━━━━━━━━━━━━━━━━━━━━\u001b[0m\u001b[37m\u001b[0m \u001b[1m27s\u001b[0m 29ms/step - categorical_accuracy: 0.9906 - loss: 0.0276 - val_categorical_accuracy: 0.9168 - val_loss: 0.4200\n",
      "Epoch 18/50\n",
      "\u001b[1m960/960\u001b[0m \u001b[32m━━━━━━━━━━━━━━━━━━━━\u001b[0m\u001b[37m\u001b[0m \u001b[1m39s\u001b[0m 27ms/step - categorical_accuracy: 0.9888 - loss: 0.0300 - val_categorical_accuracy: 0.9130 - val_loss: 0.4746\n",
      "Epoch 19/50\n",
      "\u001b[1m960/960\u001b[0m \u001b[32m━━━━━━━━━━━━━━━━━━━━\u001b[0m\u001b[37m\u001b[0m \u001b[1m27s\u001b[0m 28ms/step - categorical_accuracy: 0.9908 - loss: 0.0242 - val_categorical_accuracy: 0.9162 - val_loss: 0.4703\n",
      "Epoch 20/50\n",
      "\u001b[1m960/960\u001b[0m \u001b[32m━━━━━━━━━━━━━━━━━━━━\u001b[0m\u001b[37m\u001b[0m \u001b[1m39s\u001b[0m 26ms/step - categorical_accuracy: 0.9923 - loss: 0.0222 - val_categorical_accuracy: 0.9146 - val_loss: 0.4565\n",
      "Epoch 21/50\n",
      "\u001b[1m960/960\u001b[0m \u001b[32m━━━━━━━━━━━━━━━━━━━━\u001b[0m\u001b[37m\u001b[0m \u001b[1m41s\u001b[0m 26ms/step - categorical_accuracy: 0.9923 - loss: 0.0217 - val_categorical_accuracy: 0.9161 - val_loss: 0.4936\n",
      "Epoch 22/50\n",
      "\u001b[1m960/960\u001b[0m \u001b[32m━━━━━━━━━━━━━━━━━━━━\u001b[0m\u001b[37m\u001b[0m \u001b[1m26s\u001b[0m 27ms/step - categorical_accuracy: 0.9936 - loss: 0.0180 - val_categorical_accuracy: 0.9134 - val_loss: 0.4962\n",
      "Epoch 23/50\n",
      "\u001b[1m960/960\u001b[0m \u001b[32m━━━━━━━━━━━━━━━━━━━━\u001b[0m\u001b[37m\u001b[0m \u001b[1m27s\u001b[0m 28ms/step - categorical_accuracy: 0.9922 - loss: 0.0240 - val_categorical_accuracy: 0.9184 - val_loss: 0.5006\n",
      "Epoch 24/50\n",
      "\u001b[1m960/960\u001b[0m \u001b[32m━━━━━━━━━━━━━━━━━━━━\u001b[0m\u001b[37m\u001b[0m \u001b[1m39s\u001b[0m 26ms/step - categorical_accuracy: 0.9943 - loss: 0.0162 - val_categorical_accuracy: 0.9162 - val_loss: 0.5640\n",
      "Epoch 25/50\n",
      "\u001b[1m960/960\u001b[0m \u001b[32m━━━━━━━━━━━━━━━━━━━━\u001b[0m\u001b[37m\u001b[0m \u001b[1m42s\u001b[0m 27ms/step - categorical_accuracy: 0.9933 - loss: 0.0185 - val_categorical_accuracy: 0.9146 - val_loss: 0.5774\n",
      "Epoch 26/50\n",
      "\u001b[1m960/960\u001b[0m \u001b[32m━━━━━━━━━━━━━━━━━━━━\u001b[0m\u001b[37m\u001b[0m \u001b[1m27s\u001b[0m 28ms/step - categorical_accuracy: 0.9948 - loss: 0.0150 - val_categorical_accuracy: 0.9162 - val_loss: 0.5248\n",
      "Epoch 27/50\n",
      "\u001b[1m960/960\u001b[0m \u001b[32m━━━━━━━━━━━━━━━━━━━━\u001b[0m\u001b[37m\u001b[0m \u001b[1m28s\u001b[0m 29ms/step - categorical_accuracy: 0.9944 - loss: 0.0167 - val_categorical_accuracy: 0.9158 - val_loss: 0.6002\n",
      "Epoch 28/50\n",
      "\u001b[1m960/960\u001b[0m \u001b[32m━━━━━━━━━━━━━━━━━━━━\u001b[0m\u001b[37m\u001b[0m \u001b[1m39s\u001b[0m 27ms/step - categorical_accuracy: 0.9950 - loss: 0.0141 - val_categorical_accuracy: 0.9084 - val_loss: 0.6871\n",
      "Epoch 29/50\n",
      "\u001b[1m960/960\u001b[0m \u001b[32m━━━━━━━━━━━━━━━━━━━━\u001b[0m\u001b[37m\u001b[0m \u001b[1m40s\u001b[0m 27ms/step - categorical_accuracy: 0.9939 - loss: 0.0214 - val_categorical_accuracy: 0.9122 - val_loss: 0.6362\n",
      "Epoch 30/50\n",
      "\u001b[1m960/960\u001b[0m \u001b[32m━━━━━━━━━━━━━━━━━━━━\u001b[0m\u001b[37m\u001b[0m \u001b[1m42s\u001b[0m 28ms/step - categorical_accuracy: 0.9952 - loss: 0.0133 - val_categorical_accuracy: 0.9165 - val_loss: 0.6519\n",
      "Epoch 31/50\n",
      "\u001b[1m960/960\u001b[0m \u001b[32m━━━━━━━━━━━━━━━━━━━━\u001b[0m\u001b[37m\u001b[0m \u001b[1m26s\u001b[0m 27ms/step - categorical_accuracy: 0.9936 - loss: 0.0202 - val_categorical_accuracy: 0.9166 - val_loss: 0.6362\n",
      "Epoch 32/50\n",
      "\u001b[1m960/960\u001b[0m \u001b[32m━━━━━━━━━━━━━━━━━━━━\u001b[0m\u001b[37m\u001b[0m \u001b[1m41s\u001b[0m 27ms/step - categorical_accuracy: 0.9953 - loss: 0.0127 - val_categorical_accuracy: 0.9137 - val_loss: 0.6259\n",
      "Epoch 33/50\n",
      "\u001b[1m960/960\u001b[0m \u001b[32m━━━━━━━━━━━━━━━━━━━━\u001b[0m\u001b[37m\u001b[0m \u001b[1m41s\u001b[0m 27ms/step - categorical_accuracy: 0.9949 - loss: 0.0154 - val_categorical_accuracy: 0.9168 - val_loss: 0.6696\n",
      "Epoch 34/50\n",
      "\u001b[1m960/960\u001b[0m \u001b[32m━━━━━━━━━━━━━━━━━━━━\u001b[0m\u001b[37m\u001b[0m \u001b[1m28s\u001b[0m 29ms/step - categorical_accuracy: 0.9949 - loss: 0.0156 - val_categorical_accuracy: 0.9151 - val_loss: 0.7335\n",
      "Epoch 35/50\n",
      "\u001b[1m960/960\u001b[0m \u001b[32m━━━━━━━━━━━━━━━━━━━━\u001b[0m\u001b[37m\u001b[0m \u001b[1m40s\u001b[0m 28ms/step - categorical_accuracy: 0.9947 - loss: 0.0167 - val_categorical_accuracy: 0.9150 - val_loss: 0.6544\n",
      "Epoch 36/50\n",
      "\u001b[1m960/960\u001b[0m \u001b[32m━━━━━━━━━━━━━━━━━━━━\u001b[0m\u001b[37m\u001b[0m \u001b[1m28s\u001b[0m 29ms/step - categorical_accuracy: 0.9949 - loss: 0.0146 - val_categorical_accuracy: 0.9146 - val_loss: 0.6535\n",
      "Epoch 37/50\n",
      "\u001b[1m960/960\u001b[0m \u001b[32m━━━━━━━━━━━━━━━━━━━━\u001b[0m\u001b[37m\u001b[0m \u001b[1m39s\u001b[0m 28ms/step - categorical_accuracy: 0.9952 - loss: 0.0152 - val_categorical_accuracy: 0.9141 - val_loss: 0.7184\n",
      "Epoch 38/50\n",
      "\u001b[1m960/960\u001b[0m \u001b[32m━━━━━━━━━━━━━━━━━━━━\u001b[0m\u001b[37m\u001b[0m \u001b[1m41s\u001b[0m 28ms/step - categorical_accuracy: 0.9958 - loss: 0.0113 - val_categorical_accuracy: 0.9133 - val_loss: 0.6873\n",
      "Epoch 39/50\n",
      "\u001b[1m960/960\u001b[0m \u001b[32m━━━━━━━━━━━━━━━━━━━━\u001b[0m\u001b[37m\u001b[0m \u001b[1m41s\u001b[0m 27ms/step - categorical_accuracy: 0.9942 - loss: 0.0182 - val_categorical_accuracy: 0.9168 - val_loss: 0.6842\n",
      "Epoch 40/50\n",
      "\u001b[1m960/960\u001b[0m \u001b[32m━━━━━━━━━━━━━━━━━━━━\u001b[0m\u001b[37m\u001b[0m \u001b[1m28s\u001b[0m 29ms/step - categorical_accuracy: 0.9971 - loss: 0.0082 - val_categorical_accuracy: 0.9108 - val_loss: 0.7324\n",
      "Epoch 41/50\n",
      "\u001b[1m960/960\u001b[0m \u001b[32m━━━━━━━━━━━━━━━━━━━━\u001b[0m\u001b[37m\u001b[0m \u001b[1m29s\u001b[0m 30ms/step - categorical_accuracy: 0.9938 - loss: 0.0190 - val_categorical_accuracy: 0.9171 - val_loss: 0.7510\n",
      "Epoch 42/50\n",
      "\u001b[1m960/960\u001b[0m \u001b[32m━━━━━━━━━━━━━━━━━━━━\u001b[0m\u001b[37m\u001b[0m \u001b[1m38s\u001b[0m 28ms/step - categorical_accuracy: 0.9954 - loss: 0.0147 - val_categorical_accuracy: 0.9182 - val_loss: 0.7296\n",
      "Epoch 43/50\n",
      "\u001b[1m960/960\u001b[0m \u001b[32m━━━━━━━━━━━━━━━━━━━━\u001b[0m\u001b[37m\u001b[0m \u001b[1m41s\u001b[0m 27ms/step - categorical_accuracy: 0.9960 - loss: 0.0134 - val_categorical_accuracy: 0.9140 - val_loss: 0.7864\n",
      "Epoch 44/50\n",
      "\u001b[1m960/960\u001b[0m \u001b[32m━━━━━━━━━━━━━━━━━━━━\u001b[0m\u001b[37m\u001b[0m \u001b[1m29s\u001b[0m 30ms/step - categorical_accuracy: 0.9972 - loss: 0.0103 - val_categorical_accuracy: 0.9143 - val_loss: 0.7558\n",
      "Epoch 45/50\n",
      "\u001b[1m960/960\u001b[0m \u001b[32m━━━━━━━━━━━━━━━━━━━━\u001b[0m\u001b[37m\u001b[0m \u001b[1m39s\u001b[0m 28ms/step - categorical_accuracy: 0.9947 - loss: 0.0173 - val_categorical_accuracy: 0.9161 - val_loss: 0.7285\n",
      "Epoch 46/50\n",
      "\u001b[1m960/960\u001b[0m \u001b[32m━━━━━━━━━━━━━━━━━━━━\u001b[0m\u001b[37m\u001b[0m \u001b[1m41s\u001b[0m 28ms/step - categorical_accuracy: 0.9971 - loss: 0.0085 - val_categorical_accuracy: 0.9177 - val_loss: 0.7243\n",
      "Epoch 47/50\n",
      "\u001b[1m960/960\u001b[0m \u001b[32m━━━━━━━━━━━━━━━━━━━━\u001b[0m\u001b[37m\u001b[0m \u001b[1m41s\u001b[0m 28ms/step - categorical_accuracy: 0.9944 - loss: 0.0180 - val_categorical_accuracy: 0.9157 - val_loss: 0.7996\n",
      "Epoch 48/50\n",
      "\u001b[1m960/960\u001b[0m \u001b[32m━━━━━━━━━━━━━━━━━━━━\u001b[0m\u001b[37m\u001b[0m \u001b[1m29s\u001b[0m 30ms/step - categorical_accuracy: 0.9965 - loss: 0.0111 - val_categorical_accuracy: 0.9123 - val_loss: 0.7913\n",
      "Epoch 49/50\n",
      "\u001b[1m960/960\u001b[0m \u001b[32m━━━━━━━━━━━━━━━━━━━━\u001b[0m\u001b[37m\u001b[0m \u001b[1m29s\u001b[0m 30ms/step - categorical_accuracy: 0.9968 - loss: 0.0103 - val_categorical_accuracy: 0.9167 - val_loss: 0.7382\n",
      "Epoch 50/50\n",
      "\u001b[1m960/960\u001b[0m \u001b[32m━━━━━━━━━━━━━━━━━━━━\u001b[0m\u001b[37m\u001b[0m \u001b[1m39s\u001b[0m 28ms/step - categorical_accuracy: 0.9971 - loss: 0.0096 - val_categorical_accuracy: 0.9130 - val_loss: 0.8077\n"
     ]
    },
    {
     "data": {
      "text/plain": [
       "<keras.src.callbacks.history.History at 0x7fef8ee0f350>"
      ]
     },
     "execution_count": 26,
     "metadata": {},
     "output_type": "execute_result"
    }
   ],
   "source": [
    "loss = tf.losses.CategoricalCrossentropy()\n",
    "optimizer = tf.optimizers.Adam()\n",
    "metric = tf.metrics.CategoricalAccuracy()\n",
    "model.compile(loss=loss, optimizer=optimizer, metrics=[metric])\n",
    "\n",
    "model.fit(x_train, y_train, validation_split=0.2, epochs=50, batch_size=50)"
   ]
  },
  {
   "cell_type": "markdown",
   "id": "f4f6bf13-74c8-4c35-9005-9d48da4c2f70",
   "metadata": {},
   "source": [
    "### Prediction Example"
   ]
  },
  {
   "cell_type": "code",
   "execution_count": 27,
   "id": "4bbb8ab4-cc97-455f-bde5-6eced67c2076",
   "metadata": {},
   "outputs": [
    {
     "name": "stdout",
     "output_type": "stream",
     "text": [
      "\u001b[1m313/313\u001b[0m \u001b[32m━━━━━━━━━━━━━━━━━━━━\u001b[0m\u001b[37m\u001b[0m \u001b[1m2s\u001b[0m 6ms/step\n",
      "True:  Sandal\n",
      "Predict:  Sandal\n"
     ]
    },
    {
     "data": {
      "image/png": "[encoded data removed]",
      "text/plain": [
       "<Figure size 640x480 with 1 Axes>"
      ]
     },
     "metadata": {},
     "output_type": "display_data"
    }
   ],
   "source": [
    "y_predict = model.predict(x_test)\n",
    "\n",
    "index = 111\n",
    "plt.imshow(x_test[index], cmap=\"gray\")\n",
    "print(\"True: \", class_name[y_test[index].argmax()])\n",
    "print(\"Predict: \", class_name[y_predict[index].argmax()])"
   ]
  }
 ],
 "metadata": {
  "kernelspec": {
   "display_name": "Python 3 (ipykernel)",
   "language": "python",
   "name": "python3"
  },
  "language_info": {
   "codemirror_mode": {
    "name": "ipython",
    "version": 3
   },
   "file_extension": ".py",
   "mimetype": "text/x-python",
   "name": "python",
   "nbconvert_exporter": "python",
   "pygments_lexer": "ipython3",
   "version": "3.11.10"
  }
 },
 "nbformat": 4,
 "nbformat_minor": 5
}
